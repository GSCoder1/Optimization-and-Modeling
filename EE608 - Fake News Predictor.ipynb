{
 "cells": [
  {
   "cell_type": "code",
   "execution_count": 132,
   "id": "87b12727",
   "metadata": {},
   "outputs": [],
   "source": [
    "import numpy as np \n",
    "import pandas as pd\n",
    "import string\n",
    "import re\n",
    "import matplotlib.pyplot as plt\n",
    "import matplotlib\n",
    "\n",
    "from sklearn.naive_bayes import MultinomialNB\n",
    "from sklearn.model_selection import train_test_split\n",
    "from sklearn.metrics import classification_report\n",
    "from sklearn.preprocessing import OrdinalEncoder\n",
    "from sklearn.pipeline import make_pipeline\n",
    "from sklearn.metrics import confusion_matrix, accuracy_score, f1_score\n",
    "from sklearn.feature_extraction.text import TfidfVectorizer\n",
    "from sklearn.utils import shuffle\n",
    "\n",
    "from sklearn.tree import DecisionTreeClassifier\n",
    "from sklearn.feature_extraction.text import CountVectorizer\n",
    "from sklearn.feature_extraction.text import TfidfTransformer\n",
    "from sklearn.ensemble import RandomForestClassifier\n",
    "\n",
    "import nltk\n",
    "from nltk.corpus import stopwords\n",
    "from nltk import word_tokenize\n",
    "from gensim.models import word2vec\n",
    "from sklearn.decomposition import PCA\n",
    "import seaborn as sns\n",
    "\n",
    "from nltk.stem import PorterStemmer\n",
    "from nltk.stem import WordNetLemmatizer\n",
    "from nltk.stem.snowball import SnowballStemmer\n",
    "\n",
    "from sklearn.pipeline import Pipeline\n",
    "\n",
    "from sklearn.preprocessing import LabelEncoder\n",
    "from sklearn import svm\n",
    "\n",
    "from sklearn.linear_model import LogisticRegression"
   ]
  },
  {
   "cell_type": "markdown",
   "id": "c5df92ad",
   "metadata": {},
   "source": [
    "# Data Processing and Cleaning"
   ]
  },
  {
   "cell_type": "code",
   "execution_count": 134,
   "id": "c22fb4c2",
   "metadata": {},
   "outputs": [],
   "source": [
    "true_data = pd.read_csv('archive/True.csv')\n",
    "fake_data = pd.read_csv('archive/Fake.csv')\n",
    "# combine into one data set, with true = 1 and fake = 0\n",
    "true_data['Category'] = '1'\n",
    "fake_data['Category'] = '0'\n",
    "df = pd.concat([true_data, fake_data], axis = \"columns\")\n",
    "df = df.drop(df.index[21417:])"
   ]
  },
  {
   "cell_type": "code",
   "execution_count": 135,
   "id": "b65bbb5e",
   "metadata": {
    "scrolled": true
   },
   "outputs": [
    {
     "data": {
      "text/html": [
       "<div>\n",
       "<style scoped>\n",
       "    .dataframe tbody tr th:only-of-type {\n",
       "        vertical-align: middle;\n",
       "    }\n",
       "\n",
       "    .dataframe tbody tr th {\n",
       "        vertical-align: top;\n",
       "    }\n",
       "\n",
       "    .dataframe thead th {\n",
       "        text-align: right;\n",
       "    }\n",
       "</style>\n",
       "<table border=\"1\" class=\"dataframe\">\n",
       "  <thead>\n",
       "    <tr style=\"text-align: right;\">\n",
       "      <th></th>\n",
       "      <th>title</th>\n",
       "      <th>text</th>\n",
       "      <th>Category</th>\n",
       "    </tr>\n",
       "  </thead>\n",
       "  <tbody>\n",
       "    <tr>\n",
       "      <th>0</th>\n",
       "      <td>Donald Trump Sends Out Embarrassing New Year’...</td>\n",
       "      <td>Donald Trump just couldn t wish all Americans ...</td>\n",
       "      <td>0</td>\n",
       "    </tr>\n",
       "    <tr>\n",
       "      <th>1</th>\n",
       "      <td>Drunk Bragging Trump Staffer Started Russian ...</td>\n",
       "      <td>House Intelligence Committee Chairman Devin Nu...</td>\n",
       "      <td>0</td>\n",
       "    </tr>\n",
       "    <tr>\n",
       "      <th>2</th>\n",
       "      <td>Sheriff David Clarke Becomes An Internet Joke...</td>\n",
       "      <td>On Friday, it was revealed that former Milwauk...</td>\n",
       "      <td>0</td>\n",
       "    </tr>\n",
       "    <tr>\n",
       "      <th>3</th>\n",
       "      <td>Trump Is So Obsessed He Even Has Obama’s Name...</td>\n",
       "      <td>On Christmas day, Donald Trump announced that ...</td>\n",
       "      <td>0</td>\n",
       "    </tr>\n",
       "    <tr>\n",
       "      <th>4</th>\n",
       "      <td>Pope Francis Just Called Out Donald Trump Dur...</td>\n",
       "      <td>Pope Francis used his annual Christmas Day mes...</td>\n",
       "      <td>0</td>\n",
       "    </tr>\n",
       "  </tbody>\n",
       "</table>\n",
       "</div>"
      ],
      "text/plain": [
       "                                               title  \\\n",
       "0   Donald Trump Sends Out Embarrassing New Year’...   \n",
       "1   Drunk Bragging Trump Staffer Started Russian ...   \n",
       "2   Sheriff David Clarke Becomes An Internet Joke...   \n",
       "3   Trump Is So Obsessed He Even Has Obama’s Name...   \n",
       "4   Pope Francis Just Called Out Donald Trump Dur...   \n",
       "\n",
       "                                                text Category  \n",
       "0  Donald Trump just couldn t wish all Americans ...        0  \n",
       "1  House Intelligence Committee Chairman Devin Nu...        0  \n",
       "2  On Friday, it was revealed that former Milwauk...        0  \n",
       "3  On Christmas day, Donald Trump announced that ...        0  \n",
       "4  Pope Francis used his annual Christmas Day mes...        0  "
      ]
     },
     "execution_count": 135,
     "metadata": {},
     "output_type": "execute_result"
    }
   ],
   "source": [
    "df = pd.concat([fake_data, true_data]).reset_index(drop = True)\n",
    "df.drop(df.columns[[2, 3]], axis = 1, inplace = True)\n",
    "df.head()"
   ]
  },
  {
   "cell_type": "code",
   "execution_count": 136,
   "id": "61f6b9fb",
   "metadata": {},
   "outputs": [],
   "source": [
    "stop_words = set(stopwords.words('english'))\n",
    "st = SnowballStemmer('english')\n",
    "\n",
    "def clean_data(df, col, clean_col):\n",
    "    # shuffle data\n",
    "    df = shuffle(df)\n",
    "    \n",
    "    # lowercase\n",
    "    df[clean_col] = df[col].apply(lambda x: x.lower().strip())\n",
    "    \n",
    "    # punctuation\n",
    "    df[clean_col] = df[clean_col].apply(lambda x: re.sub('[^a-zA-Z]', ' ', x))\n",
    "    \n",
    "    # stopwords\n",
    "    df[clean_col] = df[clean_col].apply(lambda x: ' '.join(st.stem(text) for text in x.split() if text not in stop_words))\n",
    "    \n",
    "    return df"
   ]
  },
  {
   "cell_type": "code",
   "execution_count": 137,
   "id": "c0323bc3",
   "metadata": {},
   "outputs": [],
   "source": [
    "lemmatizer = WordNetLemmatizer()\n",
    "# Simple Lemmatization\n",
    "def simple_lemmatize(title):\n",
    "    temp_list = []\n",
    "    for word in nltk.word_tokenize(title):\n",
    "        temp_list.append(lemmatizer.lemmatize(word))\n",
    "    return ' '.join([str(elem) for elem in temp_list])"
   ]
  },
  {
   "cell_type": "code",
   "execution_count": 138,
   "id": "5fab4c0a",
   "metadata": {},
   "outputs": [
    {
     "data": {
      "text/plain": [
       "Index(['title', 'text', 'Category', 'Title Clean'], dtype='object')"
      ]
     },
     "execution_count": 138,
     "metadata": {},
     "output_type": "execute_result"
    }
   ],
   "source": [
    "df = clean_data(df, \"title\", \"Title Clean\")\n",
    "df.columns"
   ]
  },
  {
   "cell_type": "code",
   "execution_count": 139,
   "id": "294e413c",
   "metadata": {},
   "outputs": [
    {
     "name": "stdout",
     "output_type": "stream",
     "text": [
      "22.27%\n",
      "44.55%\n",
      "66.82%\n",
      "89.09%\n"
     ]
    },
    {
     "data": {
      "text/plain": [
       "38912                  assad say syria war end deir al zor\n",
       "38053    suspect graft indonesian parliament speaker gu...\n",
       "41808    prankster cough fit mar theresa may speech act...\n",
       "21129    man make viral video demonstr obama made cri g...\n",
       "8102     autopsi report sf cop shot man time twice head...\n",
       "                               ...                        \n",
       "22240    trump execut order ethic commit ban lobbi exec...\n",
       "8938     oregon militia terrorist die let fed arrest video\n",
       "17037    christma octob american debt trillion dem want...\n",
       "4517      trump blame charlott riot drug use without proof\n",
       "44334    britain could still revers brexit former minis...\n",
       "Name: Title_Lemma, Length: 44898, dtype: object"
      ]
     },
     "execution_count": 139,
     "metadata": {},
     "output_type": "execute_result"
    }
   ],
   "source": [
    "# nltk.download('punkt')\n",
    "# nltk.download('omw-1.4')\n",
    "#lemmatization\n",
    "def process_lemma(unprocessed_list, total_items):\n",
    "    output_list = []\n",
    "    count = 0\n",
    "    for item in unprocessed_list:\n",
    "        if item != ' ':            \n",
    "            #Simple\n",
    "            output_list.append(simple_lemmatize((item)))\n",
    "        else:\n",
    "            output_list.append(' ')\n",
    "        \n",
    "        count += 1\n",
    "        \n",
    "        if count % 10000 == 0:\n",
    "            print(\"{:.2%}\".format(count / total_items))\n",
    "        \n",
    "    return output_list\n",
    "\n",
    "df['Title_Lemma'] = process_lemma(df['Title Clean'], 44898)\n",
    "df['Title_Lemma']"
   ]
  },
  {
   "cell_type": "code",
   "execution_count": 140,
   "id": "070ec1f3",
   "metadata": {},
   "outputs": [],
   "source": [
    "# need to convert data to Series for Decision Tree Classifier\n",
    "X = df[['Title_Lemma']].squeeze()\n",
    "y = df['Category'].squeeze()"
   ]
  },
  {
   "cell_type": "code",
   "execution_count": 141,
   "id": "6df3a8ad",
   "metadata": {},
   "outputs": [],
   "source": [
    "X_train, X_test, y_train, y_test = train_test_split(X, y, test_size=0.2, random_state=0)"
   ]
  },
  {
   "cell_type": "markdown",
   "id": "18cdf4f1",
   "metadata": {},
   "source": [
    "# Confusion Matrix Function"
   ]
  },
  {
   "cell_type": "code",
   "execution_count": 52,
   "id": "d75cc825",
   "metadata": {},
   "outputs": [],
   "source": [
    "def plot_confusion_matrix(y_test, pred_test, algo):\n",
    "    confusion_training = confusion_matrix(y_test, pred_test)\n",
    "\n",
    "    confusion_training = confusion_training.astype(\"float\") / confusion_training.sum(axis=1)[:, np.newaxis]\n",
    "\n",
    "    confusion_training = np.around(confusion_training, decimals=3)*100\n",
    "\n",
    "    #create confusion matrix heat map\n",
    "    f, axes = plt.subplots(figsize=(12,6))\n",
    "    im = axes.imshow(confusion_training, interpolation=\"nearest\", cmap = plt.cm.Blues)\n",
    "\n",
    "    axes.figure.colorbar(im, ax=axes)\n",
    "    axes.set(title=(\"Confusion Matrix: {}\").format(algo), \\\n",
    "             xticks=np.arange(confusion_training.shape[1]), \\\n",
    "             yticks=np.arange(confusion_training.shape[0]), \\\n",
    "             xticklabels=range(1, 3), yticklabels=range(1, 3), \\\n",
    "             xlabel=\"Predicted\", ylabel=\"Truth\")\n",
    "\n",
    "    axes.tick_params(axis='x', labelsize=14)\n",
    "    axes.tick_params(axis='y', labelsize=14)\n",
    "    axes.title.set_fontsize(20)\n",
    "    axes.xaxis.set_ticklabels(['True', 'Fake'])\n",
    "    axes.yaxis.set_ticklabels(['True', 'Fake'])\n",
    "\n",
    "    #add clear annotations to the confusion matrix\n",
    "    threshold = confusion_training.max()/1.5\n",
    "    for i in range(confusion_training.shape[0]):\n",
    "        for j in range(confusion_training.shape[1]):\n",
    "            axes.text(j, i, f\"{confusion_training[i, j]:.0f}%\",\n",
    "                    ha=\"center\", va=\"center\",\n",
    "                    color=\"white\" if confusion_training[i, j] > threshold else \"black\")\n",
    "\n",
    "    f.tight_layout()\n",
    "    plt.savefig(('{} Testing Confusion.png').format(algo), dpi = 300)\n",
    "    plt.show()"
   ]
  },
  {
   "cell_type": "markdown",
   "id": "7b8b7f72",
   "metadata": {},
   "source": [
    "# Decision Tree Classifier"
   ]
  },
  {
   "cell_type": "code",
   "execution_count": 10,
   "id": "67b6cce8",
   "metadata": {},
   "outputs": [
    {
     "name": "stdout",
     "output_type": "stream",
     "text": [
      "accuracy: 88.39%\n"
     ]
    }
   ],
   "source": [
    "# Vectorizing and applying TF-IDF for decision tree classifier\n",
    "max_depth = 100\n",
    "\n",
    "pipe = Pipeline([('vect', CountVectorizer()),\n",
    "                 ('tfidf', TfidfTransformer()),\n",
    "                 ('model', DecisionTreeClassifier(criterion= 'entropy',\n",
    "                                           max_depth = max_depth, \n",
    "                                           splitter='best', \n",
    "                                           random_state=0))])\n",
    "# Fitting the model\n",
    "model = pipe.fit(X_train, y_train)\n",
    "\n",
    "# Accuracy\n",
    "prediction = model.predict(X_test)\n",
    "print(\"accuracy: {}%\".format(round(accuracy_score(y_test, prediction)*100,2)))\n"
   ]
  },
  {
   "cell_type": "code",
   "execution_count": 11,
   "id": "78a6c0cf",
   "metadata": {},
   "outputs": [],
   "source": [
    "#accuracy is around 89%. To improve, try to fix clean data\n",
    "# using lemma reduced to 88"
   ]
  },
  {
   "cell_type": "code",
   "execution_count": 58,
   "id": "6327a803",
   "metadata": {},
   "outputs": [
    {
     "data": {
      "image/png": "[encoded data removed]",
      "text/plain": [
       "<Figure size 1200x600 with 2 Axes>"
      ]
     },
     "metadata": {},
     "output_type": "display_data"
    }
   ],
   "source": [
    "plot_confusion_matrix(y_test, prediction, \"Decision Tree Classifier\")"
   ]
  },
  {
   "cell_type": "markdown",
   "id": "52e26244",
   "metadata": {},
   "source": [
    "# Naive Bayes"
   ]
  },
  {
   "cell_type": "code",
   "execution_count": 12,
   "id": "0278df1b",
   "metadata": {
    "scrolled": true
   },
   "outputs": [],
   "source": [
    "# naive bayes algo\n",
    "# X_train_float = X_train.to_numpy()\n",
    "# when using to_numpy(), results increase by 1%\n",
    "model2 = make_pipeline(TfidfVectorizer(), MultinomialNB())\n",
    "# nb = GaussianNB()\n",
    "clf = model2.fit(X_train, y_train)\n",
    "\n",
    "pred_NB = model2.predict(X_test)"
   ]
  },
  {
   "cell_type": "code",
   "execution_count": 13,
   "id": "c2827426",
   "metadata": {},
   "outputs": [
    {
     "name": "stdout",
     "output_type": "stream",
     "text": [
      "Classes:  ['0' '1']\n",
      "--------------------------------------------------------\n",
      "Accuracy Score:  0.9357461024498887\n",
      "--------------------------------------------------------\n",
      "              precision    recall  f1-score   support\n",
      "\n",
      "           0       0.93      0.95      0.94      4731\n",
      "           1       0.94      0.92      0.93      4249\n",
      "\n",
      "    accuracy                           0.94      8980\n",
      "   macro avg       0.94      0.94      0.94      8980\n",
      "weighted avg       0.94      0.94      0.94      8980\n",
      "\n",
      "accuracy: 93.57%\n"
     ]
    }
   ],
   "source": [
    "# Use score method to get accuracy of the model\n",
    "print('--------------------------------------------------------')\n",
    "score = model2.score(X_test, y_test)\n",
    "print('Accuracy Score: ', score)\n",
    "print('--------------------------------------------------------')\n",
    "\n",
    "# Look at classification report to evaluate the model\n",
    "print(classification_report(y_test, pred_NB))\n",
    "\n",
    "print(\"accuracy: {}%\".format(round(accuracy_score(y_test, pred_NB)*100,2)))"
   ]
  },
  {
   "cell_type": "code",
   "execution_count": 54,
   "id": "d6d56ef3",
   "metadata": {},
   "outputs": [
    {
     "data": {
      "image/png": "[encoded data removed]",
      "text/plain": [
       "<Figure size 1200x600 with 2 Axes>"
      ]
     },
     "metadata": {},
     "output_type": "display_data"
    }
   ],
   "source": [
    "plot_confusion_matrix(y_test, pred_NB, \"Naive Bayes\")"
   ]
  },
  {
   "cell_type": "markdown",
   "id": "d974cb38",
   "metadata": {},
   "source": [
    "# Random Forest Classifier"
   ]
  },
  {
   "cell_type": "code",
   "execution_count": 14,
   "id": "e88eff33",
   "metadata": {},
   "outputs": [],
   "source": [
    "# random forest classifier\n",
    "#this is pretty much bag of words\n",
    "vectorizer = CountVectorizer(min_df=1)\n",
    "X_rfc = vectorizer.fit_transform(X_train)\n",
    "\n",
    "clf = RandomForestClassifier(n_estimators = 100, class_weight = None, criterion = \"entropy\").fit(X_rfc, y_train)\n",
    "\n",
    "pred_rfc = clf.predict(vectorizer.transform(X_test).toarray())"
   ]
  },
  {
   "cell_type": "code",
   "execution_count": 24,
   "id": "1c7320ec",
   "metadata": {
    "scrolled": true
   },
   "outputs": [
    {
     "name": "stdout",
     "output_type": "stream",
     "text": [
      "accuracy: 94.34%\n",
      "F1 score: 0.94\n",
      "              precision    recall  f1-score   support\n",
      "\n",
      "           0       0.95      0.94      0.95      4731\n",
      "           1       0.93      0.95      0.94      4249\n",
      "\n",
      "    accuracy                           0.94      8980\n",
      "   macro avg       0.94      0.94      0.94      8980\n",
      "weighted avg       0.94      0.94      0.94      8980\n",
      "\n"
     ]
    }
   ],
   "source": [
    "print(\"accuracy: {}%\".format(round(accuracy_score(y_test, pred_rfc)*100,2)))\n",
    "print(\"F1 score: {}\".format(round(f1_score(y_test, pred_rfc, average = \"micro\"), 2)))\n",
    "print(classification_report(y_test, pred_rfc))\n",
    "# did rfc function rearrange the order of X_test? "
   ]
  },
  {
   "cell_type": "code",
   "execution_count": 53,
   "id": "8495a7b4",
   "metadata": {},
   "outputs": [
    {
     "data": {
      "image/png": "[encoded data removed]",
      "text/plain": [
       "<Figure size 1200x600 with 2 Axes>"
      ]
     },
     "metadata": {},
     "output_type": "display_data"
    }
   ],
   "source": [
    "plot_confusion_matrix(y_test, pred_rfc, 'Random Forest Classifier')"
   ]
  },
  {
   "cell_type": "markdown",
   "id": "cd960434",
   "metadata": {},
   "source": [
    "# Logistic Regression"
   ]
  },
  {
   "cell_type": "code",
   "execution_count": 25,
   "id": "6398e0c4",
   "metadata": {},
   "outputs": [
    {
     "name": "stderr",
     "output_type": "stream",
     "text": [
      "C:\\Users\\Gurpreet\\anaconda3\\lib\\site-packages\\sklearn\\utils\\deprecation.py:87: FutureWarning: Function get_feature_names is deprecated; get_feature_names is deprecated in 1.0 and will be removed in 1.2. Please use get_feature_names_out instead.\n",
      "  warnings.warn(msg, category=FutureWarning)\n"
     ]
    }
   ],
   "source": [
    "bow = CountVectorizer(tokenizer=lambda doc: doc)\n",
    "bow_x = bow.fit_transform(df['Title Clean'])\n",
    "words = bow.get_feature_names()"
   ]
  },
  {
   "cell_type": "code",
   "execution_count": 26,
   "id": "981ad4b3",
   "metadata": {},
   "outputs": [
    {
     "data": {
      "text/plain": [
       "<35918x27 sparse matrix of type '<class 'numpy.int64'>'\n",
       "\twith 669392 stored elements in Compressed Sparse Row format>"
      ]
     },
     "execution_count": 26,
     "metadata": {},
     "output_type": "execute_result"
    }
   ],
   "source": [
    "X_tr, X_te, y_tr, y_te = train_test_split(bow_x, df['Category'], test_size=0.2, random_state=0)\n",
    "X_tr"
   ]
  },
  {
   "cell_type": "code",
   "execution_count": 69,
   "id": "5a89b4c5",
   "metadata": {},
   "outputs": [
    {
     "name": "stdout",
     "output_type": "stream",
     "text": [
      "Test Accuracy with bag of words Logistic Regression: 76.97%\n"
     ]
    }
   ],
   "source": [
    "model = LogisticRegression(C=1.0).fit(X_tr, y_tr)\n",
    "pred_LR =model.predict(X_te)\n",
    "score = model.score(X_te, y_te)\n",
    "print(('Test Accuracy with bag of words Logistic Regression: {}%').format(round(score*100, 2)))"
   ]
  },
  {
   "cell_type": "code",
   "execution_count": 70,
   "id": "70465288",
   "metadata": {},
   "outputs": [
    {
     "data": {
      "image/png": "[encoded data removed]",
      "text/plain": [
       "<Figure size 1200x600 with 2 Axes>"
      ]
     },
     "metadata": {},
     "output_type": "display_data"
    }
   ],
   "source": [
    "plot_confusion_matrix(y_te, pred_LR, \"Logistic Regression\")"
   ]
  },
  {
   "cell_type": "markdown",
   "id": "fab71acf",
   "metadata": {},
   "source": [
    "# SVM"
   ]
  },
  {
   "cell_type": "code",
   "execution_count": 29,
   "id": "19ca4a8c",
   "metadata": {},
   "outputs": [],
   "source": [
    "# SVM\n",
    "Encoder = LabelEncoder()\n",
    "Y_Train = Encoder.fit_transform(y_train)\n",
    "Y_Test = Encoder.fit_transform(y_test)"
   ]
  },
  {
   "cell_type": "code",
   "execution_count": 31,
   "id": "744e32c5",
   "metadata": {},
   "outputs": [],
   "source": [
    "#Also try naive bayes and rfc with tf-idf\n",
    "Tfidf_vect = TfidfVectorizer(max_features=5000)\n",
    "Tfidf_vect.fit(df['Title Clean'])\n",
    "Train_X_Tfidf = Tfidf_vect.transform(X_train)\n",
    "Test_X_Tfidf = Tfidf_vect.transform(X_test)"
   ]
  },
  {
   "cell_type": "code",
   "execution_count": 34,
   "id": "4a8ab1db",
   "metadata": {},
   "outputs": [
    {
     "name": "stdout",
     "output_type": "stream",
     "text": [
      "SVM Accuracy Score ->  94.53\n"
     ]
    }
   ],
   "source": [
    "SVM = svm.SVC(C=1.0, kernel='linear', degree=3, gamma='auto')\n",
    "SVM.fit(Train_X_Tfidf,Y_Train)\n",
    "# predict the labels on validation dataset\n",
    "predictions_SVM = SVM.predict(Test_X_Tfidf)\n",
    "# Use accuracy_score function to get the accuracy\n",
    "print(\"SVM Accuracy Score -> \", round(accuracy_score(predictions_SVM, Y_Test)*100, 2))"
   ]
  },
  {
   "cell_type": "code",
   "execution_count": 33,
   "id": "a0f08fe1",
   "metadata": {},
   "outputs": [
    {
     "name": "stdout",
     "output_type": "stream",
     "text": [
      "              precision    recall  f1-score   support\n",
      "\n",
      "           0       0.95      0.94      0.95      4731\n",
      "           1       0.93      0.95      0.94      4249\n",
      "\n",
      "    accuracy                           0.95      8980\n",
      "   macro avg       0.94      0.95      0.95      8980\n",
      "weighted avg       0.95      0.95      0.95      8980\n",
      "\n"
     ]
    }
   ],
   "source": [
    "print(classification_report(Y_Test,predictions_SVM))"
   ]
  },
  {
   "cell_type": "code",
   "execution_count": 56,
   "id": "eb0c0ba0",
   "metadata": {
    "scrolled": true
   },
   "outputs": [
    {
     "data": {
      "image/png": "[encoded data removed]",
      "text/plain": [
       "<Figure size 1200x600 with 2 Axes>"
      ]
     },
     "metadata": {},
     "output_type": "display_data"
    }
   ],
   "source": [
    "plot_confusion_matrix(Y_Test, predictions_SVM, \"SVM\")"
   ]
  },
  {
   "cell_type": "markdown",
   "id": "fea42c49",
   "metadata": {},
   "source": [
    "# Neural Network"
   ]
  },
  {
   "cell_type": "code",
   "execution_count": 142,
   "id": "a0ad7cf3-567f-4ef1-84f6-16587fd725e2",
   "metadata": {},
   "outputs": [],
   "source": [
    "from tensorflow.keras.preprocessing.sequence import pad_sequences\n",
    "from tensorflow.keras.models import Sequential\n",
    "from tensorflow.keras.layers import Dense, Flatten\n",
    "from tensorflow.keras.layers import Embedding\n",
    "from keras.layers import Dropout, BatchNormalization\n",
    "from keras import losses, optimizers\n",
    "from keras.optimizers import SGD"
   ]
  },
  {
   "cell_type": "code",
   "execution_count": 143,
   "id": "b8187822",
   "metadata": {},
   "outputs": [],
   "source": [
    "# use Neural Network to classify\n",
    "from keras.preprocessing.text import Tokenizer\n",
    "# redo text cleaning slightly differently\n",
    "df.drop(df.columns[[3, 4]], axis = 1, inplace = True)"
   ]
  },
  {
   "cell_type": "code",
   "execution_count": 66,
   "id": "79e09e3c-0bb5-43bc-b699-efb943a4226a",
   "metadata": {},
   "outputs": [
    {
     "name": "stdout",
     "output_type": "stream",
     "text": [
      "14658    iran announc reason for arrest us sailors…they...\n",
      "40941              germani fdp expect coalit form christma\n",
      "19544    awesome! american flag come back after 1,000 v...\n",
      "34681                  grow feud: trump, cruz escal attack\n",
      "23439    syria ceasefir deal: a cynic ploy washington c...\n",
      "                               ...                        \n",
      "12580    oh my! anoth giant fli land on hillari clinton...\n",
      "28736    trump budget plan boost pentagon, trim state d...\n",
      "42682     yemen hadi see militari solut crisis: arabiya tv\n",
      "33569                          barron endors kasich presid\n",
      "29301    some sept. 11 famili join critic trump immigr ...\n",
      "Name: title, Length: 44898, dtype: object\n"
     ]
    }
   ],
   "source": [
    "# Count Vectorizer cleans text for us by converting characters to lowercase, removing punc\n",
    "# remove stop words first\n",
    "X_data = df['title'].apply(lambda x: ' '.join(st.stem(text) for text in x.split() if text not in stop_words))\n",
    "print(X_data)\n",
    "X_data = shuffle(X_data)\n",
    "tokenizer = Tokenizer()\n",
    "tokenizer.fit_on_texts(X_data)\n",
    "seq = tokenizer.texts_to_sequences(X_data)"
   ]
  },
  {
   "cell_type": "code",
   "execution_count": 113,
   "id": "06046a62-4465-4f4b-8c02-dce49b792dc0",
   "metadata": {},
   "outputs": [],
   "source": [
    "# maximum amount of words in title is 10\n",
    "max_len = 10\n",
    "# this will require padding since not all lists are that length\n",
    "X_data = pad_sequences(seq, padding='post', maxlen=max_len)\n",
    "Y_data = df['Category']\n",
    "tokenizer.fit_on_texts(Y_data)\n",
    "seqy = tokenizer.texts_to_sequences(Y_data)\n",
    "Y_data = pad_sequences(seqy, padding='post', maxlen = 1)\n",
    "feature_size = 100\n",
    "context_size = 20\n",
    "min_word = 1\n",
    "\n",
    "#X_data = model_df.iloc[:, :-1]\n",
    "#Y_data = model_df.iloc[:, -1]\n"
   ]
  },
  {
   "cell_type": "code",
   "execution_count": 114,
   "id": "afec47bb-8346-488f-8fe1-65dd02f023f5",
   "metadata": {},
   "outputs": [],
   "source": [
    "X_Train, X_Test, Y_Train, Y_Test = train_test_split(X_data, Y_data, test_size = 0.2)"
   ]
  },
  {
   "cell_type": "code",
   "execution_count": 115,
   "id": "028dc348-27c7-47e0-a33e-e83673090080",
   "metadata": {
    "jp-MarkdownHeadingCollapsed": true,
    "tags": []
   },
   "outputs": [
    {
     "name": "stdout",
     "output_type": "stream",
     "text": [
      "Model: \"sequential\"\n",
      "_________________________________________________________________\n",
      " Layer (type)                Output Shape              Param #   \n",
      "=================================================================\n",
      " embedding (Embedding)       (None, 10, 16)            400000    \n",
      "                                                                 \n",
      " flatten (Flatten)           (None, 160)               0         \n",
      "                                                                 \n",
      " dropout (Dropout)           (None, 160)               0         \n",
      "                                                                 \n",
      " dense (Dense)               (None, 64)                10304     \n",
      "                                                                 \n",
      " dropout_1 (Dropout)         (None, 64)                0         \n",
      "                                                                 \n",
      " dense_1 (Dense)             (None, 64)                4160      \n",
      "                                                                 \n",
      " dense_2 (Dense)             (None, 1)                 65        \n",
      "                                                                 \n",
      "=================================================================\n",
      "Total params: 414,529\n",
      "Trainable params: 414,529\n",
      "Non-trainable params: 0\n",
      "_________________________________________________________________\n"
     ]
    }
   ],
   "source": [
    "# must embedd the data before training. This will convert the padded sequences into word vecs\n",
    "max_words = 25000\n",
    "dim = 16\n",
    "model = Sequential()\n",
    "model.add(Embedding(max_words, dim, input_length = max_len))\n",
    "model.add(Flatten())\n",
    "model.add(Dropout(0.3))\n",
    "model.add(Dense(64, activation='relu'))\n",
    "BatchNormalization()\n",
    "model.add(Dropout(0.5))\n",
    "model.add(Dense(64, activation='relu'))\n",
    "BatchNormalization()\n",
    "model.add(Dense(1, activation='sigmoid'))\n",
    "#model.compile(loss='MSE', optimizer='Adam', metrics=['accuracy']) \n",
    "model.compile(loss='MSE',\n",
    "              optimizer=optimizers.Adam(1e-6),\n",
    "              metrics=['accuracy'])\n",
    "model.summary()"
   ]
  },
  {
   "cell_type": "code",
   "execution_count": 116,
   "id": "b2e41d1a-b91e-41cb-9b68-98ccef51d3af",
   "metadata": {},
   "outputs": [
    {
     "name": "stdout",
     "output_type": "stream",
     "text": [
      "Epoch 1/15\n",
      "360/360 - 1s - loss: 1.1939 - accuracy: 0.3696 - val_loss: 1.2021 - val_accuracy: 0.4049 - 1s/epoch - 3ms/step\n",
      "Epoch 2/15\n",
      "360/360 - 1s - loss: 1.1911 - accuracy: 0.3953 - val_loss: 1.1995 - val_accuracy: 0.4421 - 824ms/epoch - 2ms/step\n",
      "Epoch 3/15\n",
      "360/360 - 1s - loss: 1.1886 - accuracy: 0.4195 - val_loss: 1.1970 - val_accuracy: 0.4715 - 822ms/epoch - 2ms/step\n",
      "Epoch 4/15\n",
      "360/360 - 1s - loss: 1.1859 - accuracy: 0.4386 - val_loss: 1.1944 - val_accuracy: 0.4904 - 850ms/epoch - 2ms/step\n",
      "Epoch 5/15\n",
      "360/360 - 1s - loss: 1.1831 - accuracy: 0.4594 - val_loss: 1.1918 - val_accuracy: 0.5017 - 845ms/epoch - 2ms/step\n",
      "Epoch 6/15\n",
      "360/360 - 1s - loss: 1.1803 - accuracy: 0.4738 - val_loss: 1.1892 - val_accuracy: 0.5111 - 843ms/epoch - 2ms/step\n",
      "Epoch 7/15\n",
      "360/360 - 1s - loss: 1.1779 - accuracy: 0.4848 - val_loss: 1.1866 - val_accuracy: 0.5149 - 825ms/epoch - 2ms/step\n",
      "Epoch 8/15\n",
      "360/360 - 1s - loss: 1.1749 - accuracy: 0.4942 - val_loss: 1.1839 - val_accuracy: 0.5173 - 808ms/epoch - 2ms/step\n",
      "Epoch 9/15\n",
      "360/360 - 1s - loss: 1.1722 - accuracy: 0.5030 - val_loss: 1.1813 - val_accuracy: 0.5185 - 786ms/epoch - 2ms/step\n",
      "Epoch 10/15\n",
      "360/360 - 1s - loss: 1.1696 - accuracy: 0.5081 - val_loss: 1.1786 - val_accuracy: 0.5198 - 787ms/epoch - 2ms/step\n",
      "Epoch 11/15\n",
      "360/360 - 1s - loss: 1.1666 - accuracy: 0.5128 - val_loss: 1.1759 - val_accuracy: 0.5199 - 788ms/epoch - 2ms/step\n",
      "Epoch 12/15\n",
      "360/360 - 1s - loss: 1.1638 - accuracy: 0.5168 - val_loss: 1.1732 - val_accuracy: 0.5202 - 789ms/epoch - 2ms/step\n",
      "Epoch 13/15\n",
      "360/360 - 1s - loss: 1.1611 - accuracy: 0.5180 - val_loss: 1.1704 - val_accuracy: 0.5203 - 798ms/epoch - 2ms/step\n",
      "Epoch 14/15\n",
      "360/360 - 1s - loss: 1.1581 - accuracy: 0.5203 - val_loss: 1.1676 - val_accuracy: 0.5203 - 822ms/epoch - 2ms/step\n",
      "Epoch 15/15\n",
      "360/360 - 1s - loss: 1.1551 - accuracy: 0.5216 - val_loss: 1.1648 - val_accuracy: 0.5203 - 791ms/epoch - 2ms/step\n"
     ]
    }
   ],
   "source": [
    "# now validate the samples\n",
    "epochs = 15\n",
    "hist = model.fit(X_Train, Y_Train, validation_data = (X_Test,Y_Test), epochs=epochs, batch_size=100, verbose = 2)"
   ]
  },
  {
   "cell_type": "code",
   "execution_count": 117,
   "id": "6891f8ad-8953-40d0-beb1-263c8d52a708",
   "metadata": {},
   "outputs": [],
   "source": [
    "from keras.backend import clear_session\n",
    "clear_session()"
   ]
  },
  {
   "cell_type": "code",
   "execution_count": 118,
   "id": "e7bbac1c",
   "metadata": {
    "scrolled": true
   },
   "outputs": [
    {
     "data": {
      "text/plain": [
       "'\\nSome issues faced are overfitting, in which case we can try to find additional data, or tune the model better\\nTuning done so far is batch normalization, reducing layers, Dropout, increasing batch size\\n'"
      ]
     },
     "execution_count": 118,
     "metadata": {},
     "output_type": "execute_result"
    }
   ],
   "source": [
    "'''\n",
    "Some issues faced are overfitting, in which case we can try to find additional data, or tune the model better\n",
    "Tuning done so far is batch normalization, reducing layers, Dropout, increasing batch size\n",
    "'''"
   ]
  },
  {
   "cell_type": "markdown",
   "id": "560bd8ea",
   "metadata": {},
   "source": [
    "# Prediction"
   ]
  },
  {
   "cell_type": "code",
   "execution_count": 121,
   "id": "c5969e69",
   "metadata": {},
   "outputs": [],
   "source": [
    "# prediction\n",
    "Fake_ex = \"Trump plans to marry Kim-Jong-Un in North Korea\"\n",
    "True_ex = \"How Trump's legacy became 'pure poison' for independents\""
   ]
  },
  {
   "cell_type": "code",
   "execution_count": 123,
   "id": "3e0fd51b",
   "metadata": {},
   "outputs": [],
   "source": [
    "def remove_stop_words(text):\n",
    "    text = word_tokenize(text.lower())\n",
    "    stop_words = set(stopwords.words('english'))\n",
    "    text = [word for word in text if word.isalpha() and not word in stop_words]\n",
    "    return ' '.join(text)"
   ]
  },
  {
   "cell_type": "code",
   "execution_count": 146,
   "id": "304303f9",
   "metadata": {},
   "outputs": [
    {
     "name": "stdout",
     "output_type": "stream",
     "text": [
      "1/1 [==============================] - 0s 10ms/step\n",
      "1/1 [==============================] - 0s 11ms/step\n"
     ]
    },
    {
     "data": {
      "text/plain": [
       "0.52041405"
      ]
     },
     "execution_count": 146,
     "metadata": {},
     "output_type": "execute_result"
    }
   ],
   "source": [
    "clean_Fake = remove_stop_words(Fake_ex)\n",
    "seq = tokenizer.texts_to_sequences([clean_Fake])\n",
    "padded_sequence = pad_sequences(seq, maxlen=max_len)\n",
    "model.predict(padded_sequence)[0][0]\n",
    "clean_True = remove_stop_words(True_ex)\n",
    "seq = tokenizer.texts_to_sequences([clean_True])\n",
    "padded_sequence = pad_sequences(seq, maxlen=max_len)\n",
    "model.predict(padded_sequence)[0][0]"
   ]
  },
  {
   "cell_type": "code",
   "execution_count": 147,
   "id": "ee077a93",
   "metadata": {},
   "outputs": [],
   "source": [
    "# Does not work as well as expected\n",
    "# area of improvement is the NN"
   ]
  }
 ],
 "metadata": {
  "kernelspec": {
   "display_name": "Python 3 (ipykernel)",
   "language": "python",
   "name": "python3"
  },
  "language_info": {
   "codemirror_mode": {
    "name": "ipython",
    "version": 3
   },
   "file_extension": ".py",
   "mimetype": "text/x-python",
   "name": "python",
   "nbconvert_exporter": "python",
   "pygments_lexer": "ipython3",
   "version": "3.9.15"
  }
 },
 "nbformat": 4,
 "nbformat_minor": 5
}
