{
 "cells": [
  {
   "cell_type": "code",
   "execution_count": 61,
   "id": "87b12727",
   "metadata": {},
   "outputs": [],
   "source": [
    "import numpy as np \n",
    "import pandas as pd\n",
    "import string\n",
    "import re\n",
    "\n",
    "from sklearn.naive_bayes import MultinomialNB\n",
    "from sklearn.model_selection import train_test_split\n",
    "from sklearn.metrics import classification_report\n",
    "from sklearn.preprocessing import OrdinalEncoder\n",
    "from sklearn.pipeline import make_pipeline\n",
    "from sklearn.metrics import confusion_matrix, accuracy_score\n",
    "from sklearn.feature_extraction.text import TfidfVectorizer\n",
    "from sklearn.utils import shuffle\n",
    "\n",
    "from sklearn.tree import DecisionTreeClassifier\n",
    "from sklearn.feature_extraction.text import CountVectorizer\n",
    "from sklearn.feature_extraction.text import TfidfTransformer\n",
    "from sklearn.ensemble import RandomForestClassifier\n",
    "\n",
    "import nltk\n",
    "from nltk.corpus import stopwords\n",
    "from nltk import word_tokenize\n",
    "from gensim.models import Word2Vec as w2v\n",
    "from sklearn.decomposition import PCA\n",
    "import seaborn as sns\n",
    "\n",
    "from nltk.stem import PorterStemmer\n",
    "from nltk.stem import WordNetLemmatizer\n",
    "from nltk.stem.snowball import SnowballStemmer\n",
    "\n",
    "from sklearn.pipeline import Pipeline\n",
    "\n",
    "from sklearn.preprocessing import LabelEncoder\n",
    "from sklearn import svm\n",
    "\n",
    "from sklearn.linear_model import LogisticRegression"
   ]
  },
  {
   "cell_type": "markdown",
   "id": "c5df92ad",
   "metadata": {},
   "source": [
    "# Data Processing and Cleaning"
   ]
  },
  {
   "cell_type": "code",
   "execution_count": 62,
   "id": "c22fb4c2",
   "metadata": {},
   "outputs": [],
   "source": [
    "true_data = pd.read_csv('archive/True.csv')\n",
    "fake_data = pd.read_csv('archive/Fake.csv')\n",
    "# combine into one data set, with true = 1 and fake = 0\n",
    "true_data['Category'] = '1'\n",
    "fake_data['Category'] = '0'\n",
    "df = pd.concat([true_data, fake_data], axis = \"columns\")\n",
    "df = df.drop(df.index[21417:])"
   ]
  },
  {
   "cell_type": "code",
   "execution_count": 63,
   "id": "b65bbb5e",
   "metadata": {
    "scrolled": true
   },
   "outputs": [
    {
     "data": {
      "text/html": [
       "<div>\n",
       "<style scoped>\n",
       "    .dataframe tbody tr th:only-of-type {\n",
       "        vertical-align: middle;\n",
       "    }\n",
       "\n",
       "    .dataframe tbody tr th {\n",
       "        vertical-align: top;\n",
       "    }\n",
       "\n",
       "    .dataframe thead th {\n",
       "        text-align: right;\n",
       "    }\n",
       "</style>\n",
       "<table border=\"1\" class=\"dataframe\">\n",
       "  <thead>\n",
       "    <tr style=\"text-align: right;\">\n",
       "      <th></th>\n",
       "      <th>title</th>\n",
       "      <th>text</th>\n",
       "      <th>Category</th>\n",
       "    </tr>\n",
       "  </thead>\n",
       "  <tbody>\n",
       "    <tr>\n",
       "      <th>0</th>\n",
       "      <td>Donald Trump Sends Out Embarrassing New Year’...</td>\n",
       "      <td>Donald Trump just couldn t wish all Americans ...</td>\n",
       "      <td>0</td>\n",
       "    </tr>\n",
       "    <tr>\n",
       "      <th>1</th>\n",
       "      <td>Drunk Bragging Trump Staffer Started Russian ...</td>\n",
       "      <td>House Intelligence Committee Chairman Devin Nu...</td>\n",
       "      <td>0</td>\n",
       "    </tr>\n",
       "    <tr>\n",
       "      <th>2</th>\n",
       "      <td>Sheriff David Clarke Becomes An Internet Joke...</td>\n",
       "      <td>On Friday, it was revealed that former Milwauk...</td>\n",
       "      <td>0</td>\n",
       "    </tr>\n",
       "    <tr>\n",
       "      <th>3</th>\n",
       "      <td>Trump Is So Obsessed He Even Has Obama’s Name...</td>\n",
       "      <td>On Christmas day, Donald Trump announced that ...</td>\n",
       "      <td>0</td>\n",
       "    </tr>\n",
       "    <tr>\n",
       "      <th>4</th>\n",
       "      <td>Pope Francis Just Called Out Donald Trump Dur...</td>\n",
       "      <td>Pope Francis used his annual Christmas Day mes...</td>\n",
       "      <td>0</td>\n",
       "    </tr>\n",
       "  </tbody>\n",
       "</table>\n",
       "</div>"
      ],
      "text/plain": [
       "                                               title  \\\n",
       "0   Donald Trump Sends Out Embarrassing New Year’...   \n",
       "1   Drunk Bragging Trump Staffer Started Russian ...   \n",
       "2   Sheriff David Clarke Becomes An Internet Joke...   \n",
       "3   Trump Is So Obsessed He Even Has Obama’s Name...   \n",
       "4   Pope Francis Just Called Out Donald Trump Dur...   \n",
       "\n",
       "                                                text Category  \n",
       "0  Donald Trump just couldn t wish all Americans ...        0  \n",
       "1  House Intelligence Committee Chairman Devin Nu...        0  \n",
       "2  On Friday, it was revealed that former Milwauk...        0  \n",
       "3  On Christmas day, Donald Trump announced that ...        0  \n",
       "4  Pope Francis used his annual Christmas Day mes...        0  "
      ]
     },
     "execution_count": 63,
     "metadata": {},
     "output_type": "execute_result"
    }
   ],
   "source": [
    "df = pd.concat([fake_data, true_data]).reset_index(drop = True)\n",
    "df.drop(df.columns[[2, 3]], axis = 1, inplace = True)\n",
    "df.head()"
   ]
  },
  {
   "cell_type": "code",
   "execution_count": 64,
   "id": "61f6b9fb",
   "metadata": {},
   "outputs": [],
   "source": [
    "stop_words = set(stopwords.words('english'))\n",
    "st = SnowballStemmer('english')\n",
    "\n",
    "def clean_data(df, col, clean_col):\n",
    "    # shuffle data\n",
    "    df = shuffle(df)\n",
    "    \n",
    "    # lowercase\n",
    "    df[clean_col] = df[col].apply(lambda x: x.lower().strip())\n",
    "    \n",
    "    # punctuation\n",
    "    df[clean_col] = df[clean_col].apply(lambda x: re.sub('[^a-zA-Z]', ' ', x))\n",
    "    \n",
    "    # stopwords\n",
    "    df[clean_col] = df[clean_col].apply(lambda x: ' '.join(st.stem(text) for text in x.split() if text not in stop_words))\n",
    "    \n",
    "    return df"
   ]
  },
  {
   "cell_type": "code",
   "execution_count": 65,
   "id": "c0323bc3",
   "metadata": {},
   "outputs": [],
   "source": [
    "lemmatizer = WordNetLemmatizer()\n",
    "# Simple Lemmatization\n",
    "def simple_lemmatize(title):\n",
    "    temp_list = []\n",
    "    for word in nltk.word_tokenize(title):\n",
    "        temp_list.append(lemmatizer.lemmatize(word))\n",
    "    return ' '.join([str(elem) for elem in temp_list])"
   ]
  },
  {
   "cell_type": "code",
   "execution_count": 66,
   "id": "5fab4c0a",
   "metadata": {},
   "outputs": [
    {
     "data": {
      "text/plain": [
       "Index(['title', 'text', 'Category', 'Title Clean'], dtype='object')"
      ]
     },
     "execution_count": 66,
     "metadata": {},
     "output_type": "execute_result"
    }
   ],
   "source": [
    "df = clean_data(df, \"title\", \"Title Clean\")\n",
    "df.columns"
   ]
  },
  {
   "cell_type": "code",
   "execution_count": 67,
   "id": "294e413c",
   "metadata": {},
   "outputs": [
    {
     "name": "stdout",
     "output_type": "stream",
     "text": [
      "22.27%\n",
      "44.55%\n",
      "66.82%\n",
      "89.09%\n"
     ]
    },
    {
     "data": {
      "text/plain": [
       "20015    freshman orient racist ask asian student math ...\n",
       "3980     trump fan open admit plan assassin hillari ele...\n",
       "33817      embattl chicago prosecutor defeat elect primari\n",
       "44744    guatemala top court side u n graft unit fight ...\n",
       "3741     georg takei perfect respons trump demand hamil...\n",
       "                               ...                        \n",
       "18453    cuomo outrag iowan cheer trump said want poor ...\n",
       "717        break trump kick reinc priebus white hous tweet\n",
       "40174    egypt author challeng reuter casualti western ...\n",
       "11788                    judg jeanin like law enforc video\n",
       "14697    face follow obama gun control ralli ted cruz a...\n",
       "Name: Title_Lemma, Length: 44898, dtype: object"
      ]
     },
     "execution_count": 67,
     "metadata": {},
     "output_type": "execute_result"
    }
   ],
   "source": [
    "# nltk.download('punkt')\n",
    "# nltk.download('omw-1.4')\n",
    "def process_lemma(unprocessed_list, total_items):\n",
    "    output_list = []\n",
    "    count = 0\n",
    "    for item in unprocessed_list:\n",
    "        if item != ' ':            \n",
    "            #Simple\n",
    "            output_list.append(simple_lemmatize((item)))\n",
    "        else:\n",
    "            output_list.append(' ')\n",
    "        \n",
    "        count += 1\n",
    "        \n",
    "        if count % 10000 == 0:\n",
    "            print(\"{:.2%}\".format(count / total_items))\n",
    "        \n",
    "    return output_list\n",
    "\n",
    "df['Title_Lemma'] = process_lemma(df['Title Clean'], 44898)\n",
    "df['Title_Lemma']"
   ]
  },
  {
   "cell_type": "code",
   "execution_count": 68,
   "id": "070ec1f3",
   "metadata": {},
   "outputs": [],
   "source": [
    "# need to convert data to Series for Decision Tree Classifier\n",
    "X = df[['Title_Lemma']].squeeze()\n",
    "y = df['Category'].squeeze()"
   ]
  },
  {
   "cell_type": "code",
   "execution_count": 69,
   "id": "6df3a8ad",
   "metadata": {},
   "outputs": [],
   "source": [
    "X_train, X_test, y_train, y_test = train_test_split(X, y, test_size=0.2, random_state=0)"
   ]
  },
  {
   "cell_type": "markdown",
   "id": "7b8b7f72",
   "metadata": {},
   "source": [
    "# Decision Tree Classifier"
   ]
  },
  {
   "cell_type": "code",
   "execution_count": 70,
   "id": "67b6cce8",
   "metadata": {},
   "outputs": [
    {
     "name": "stdout",
     "output_type": "stream",
     "text": [
      "accuracy: 88.29%\n"
     ]
    }
   ],
   "source": [
    "# Vectorizing and applying TF-IDF for decision tree classifier\n",
    "max_depth = 100\n",
    "\n",
    "pipe = Pipeline([('vect', CountVectorizer()),\n",
    "                 ('tfidf', TfidfTransformer()),\n",
    "                 ('model', DecisionTreeClassifier(criterion= 'entropy',\n",
    "                                           max_depth = max_depth, \n",
    "                                           splitter='best', \n",
    "                                           random_state=0))])\n",
    "# Fitting the model\n",
    "model = pipe.fit(X_train, y_train)\n",
    "\n",
    "# Accuracy\n",
    "prediction = model.predict(X_test)\n",
    "print(\"accuracy: {}%\".format(round(accuracy_score(y_test, prediction)*100,2)))\n"
   ]
  },
  {
   "cell_type": "code",
   "execution_count": 71,
   "id": "78a6c0cf",
   "metadata": {},
   "outputs": [],
   "source": [
    "#accuracy is around 89%. To improve, try to fix clean data\n",
    "# using lemma reduced to 88"
   ]
  },
  {
   "cell_type": "markdown",
   "id": "52e26244",
   "metadata": {},
   "source": [
    "# Naive Bayes"
   ]
  },
  {
   "cell_type": "code",
   "execution_count": 75,
   "id": "0278df1b",
   "metadata": {
    "scrolled": true
   },
   "outputs": [],
   "source": [
    "# naive bayes algo\n",
    "# X_train_float = X_train.to_numpy()\n",
    "# when using to_numpy(), results increase by 1%\n",
    "model2 = make_pipeline(TfidfVectorizer(), MultinomialNB())\n",
    "# nb = GaussianNB()\n",
    "clf = model2.fit(X_train, y_train)\n",
    "\n",
    "pred_NB = model2.predict(X_test)"
   ]
  },
  {
   "cell_type": "code",
   "execution_count": 76,
   "id": "c2827426",
   "metadata": {},
   "outputs": [
    {
     "name": "stdout",
     "output_type": "stream",
     "text": [
      "Classes:  ['0' '1']\n",
      "--------------------------------------------------------\n",
      "Accuracy Score:  0.9292873051224945\n",
      "--------------------------------------------------------\n",
      "              precision    recall  f1-score   support\n",
      "\n",
      "           0       0.92      0.95      0.93      4704\n",
      "           1       0.94      0.91      0.92      4276\n",
      "\n",
      "    accuracy                           0.93      8980\n",
      "   macro avg       0.93      0.93      0.93      8980\n",
      "weighted avg       0.93      0.93      0.93      8980\n",
      "\n",
      "accuracy: 92.93%\n"
     ]
    }
   ],
   "source": [
    "# Print model attributes \n",
    "print('Classes: ', clf.classes_) # class labels known to the classifier\n",
    "\n",
    "# Use score method to get accuracy of the model\n",
    "print('--------------------------------------------------------')\n",
    "score = model2.score(X_test, y_test)\n",
    "print('Accuracy Score: ', score)\n",
    "print('--------------------------------------------------------')\n",
    "\n",
    "# Look at classification report to evaluate the model\n",
    "print(classification_report(y_test, pred_NB))\n",
    "\n",
    "print(\"accuracy: {}%\".format(round(accuracy_score(y_test, pred_NB)*100,2)))"
   ]
  },
  {
   "cell_type": "markdown",
   "id": "d974cb38",
   "metadata": {},
   "source": [
    "# Random Forest Classifier"
   ]
  },
  {
   "cell_type": "code",
   "execution_count": 58,
   "id": "e88eff33",
   "metadata": {},
   "outputs": [],
   "source": [
    "# random forest classifier\n",
    "#this is pretty much bag of words\n",
    "vectorizer = CountVectorizer(min_df=1)\n",
    "X_rfc = vectorizer.fit_transform(X_train)\n",
    "\n",
    "clf = RandomForestClassifier(n_estimators = 100, class_weight = None, criterion = \"entropy\").fit(X_rfc, y_train)\n",
    "\n",
    "pred_rfc = clf.predict(vectorizer.transform(X_test).toarray())"
   ]
  },
  {
   "cell_type": "code",
   "execution_count": 59,
   "id": "1c7320ec",
   "metadata": {},
   "outputs": [
    {
     "name": "stdout",
     "output_type": "stream",
     "text": [
      "accuracy: 93.98%\n",
      "              precision    recall  f1-score   support\n",
      "\n",
      "           0       0.95      0.94      0.94      4660\n",
      "           1       0.93      0.94      0.94      4320\n",
      "\n",
      "    accuracy                           0.94      8980\n",
      "   macro avg       0.94      0.94      0.94      8980\n",
      "weighted avg       0.94      0.94      0.94      8980\n",
      "\n"
     ]
    }
   ],
   "source": [
    "print(\"accuracy: {}%\".format(round(accuracy_score(y_test, pred_rfc)*100,2)))\n",
    "print(classification_report(y_test, pred_rfc))\n",
    "# did rfc function rearrange the order of X_test? "
   ]
  },
  {
   "cell_type": "markdown",
   "id": "cd960434",
   "metadata": {},
   "source": [
    "# Logistic Regression"
   ]
  },
  {
   "cell_type": "code",
   "execution_count": 29,
   "id": "6398e0c4",
   "metadata": {},
   "outputs": [
    {
     "name": "stdout",
     "output_type": "stream",
     "text": [
      "[' ', 'a', 'b', 'c', 'd', 'e', 'f', 'g', 'h', 'i', 'j', 'k', 'l', 'm', 'n', 'o', 'p', 'q', 'r', 's', 't', 'u', 'v', 'w', 'x', 'y', 'z']\n"
     ]
    },
    {
     "name": "stderr",
     "output_type": "stream",
     "text": [
      "C:\\Users\\Gurpreet\\anaconda3\\lib\\site-packages\\sklearn\\utils\\deprecation.py:87: FutureWarning: Function get_feature_names is deprecated; get_feature_names is deprecated in 1.0 and will be removed in 1.2. Please use get_feature_names_out instead.\n",
      "  warnings.warn(msg, category=FutureWarning)\n"
     ]
    }
   ],
   "source": [
    "bow = CountVectorizer(tokenizer=lambda doc: doc)\n",
    "bow_x = bow.fit_transform(df['Title Clean'])\n",
    "words = bow.get_feature_names()\n",
    "print(words)"
   ]
  },
  {
   "cell_type": "code",
   "execution_count": 30,
   "id": "981ad4b3",
   "metadata": {},
   "outputs": [
    {
     "data": {
      "text/plain": [
       "<35918x27 sparse matrix of type '<class 'numpy.int64'>'\n",
       "\twith 669512 stored elements in Compressed Sparse Row format>"
      ]
     },
     "execution_count": 30,
     "metadata": {},
     "output_type": "execute_result"
    }
   ],
   "source": [
    "X_tr, X_te, y_tr, y_te = train_test_split(bow_x, df['Category'], test_size=0.2, random_state=0)\n",
    "X_tr"
   ]
  },
  {
   "cell_type": "code",
   "execution_count": 31,
   "id": "5a89b4c5",
   "metadata": {},
   "outputs": [
    {
     "name": "stdout",
     "output_type": "stream",
     "text": [
      "Test Score with bow features 0.7684855233853006\n"
     ]
    },
    {
     "data": {
      "text/plain": [
       "LogisticRegression()"
      ]
     },
     "execution_count": 31,
     "metadata": {},
     "output_type": "execute_result"
    }
   ],
   "source": [
    "def simple_logistic_classify(X_tr, y_tr, X_test, y_test, description, _C=1.0):\n",
    "    model = LogisticRegression(C=_C).fit(X_tr, y_tr)\n",
    "    score = model.score(X_test, y_test)\n",
    "    print('Test Score with', description, 'features', score)\n",
    "    return model\n",
    "\n",
    "simple_logistic_classify(X_tr, y_tr, X_te, y_te, \"bow\")"
   ]
  },
  {
   "cell_type": "markdown",
   "id": "fab71acf",
   "metadata": {},
   "source": [
    "# SVM"
   ]
  },
  {
   "cell_type": "code",
   "execution_count": 32,
   "id": "19ca4a8c",
   "metadata": {},
   "outputs": [],
   "source": [
    "# SVM\n",
    "Encoder = LabelEncoder()\n",
    "Y_Train = Encoder.fit_transform(y_train)\n",
    "Y_Test = Encoder.fit_transform(y_test)"
   ]
  },
  {
   "cell_type": "code",
   "execution_count": 33,
   "id": "744e32c5",
   "metadata": {},
   "outputs": [
    {
     "name": "stdout",
     "output_type": "stream",
     "text": [
      "{'schumer': 3909, 'call': 644, 'trump': 4618, 'appoint': 204, 'offici': 3112, 'overse': 3178, 'puerto': 3509, 'rico': 3765, 'relief': 3668, 'least': 2567, 'media': 2791, 'worker': 4936, 'kill': 2462, 'job': 2389, 'report': 3692, 'without': 4925, 'border': 527, 'berkeley': 421, 'colleg': 865, 'thug': 4505, 'form': 1759, 'human': 2156, 'chain': 725, 'stop': 4288, 'white': 4889, 'student': 4315, 'attend': 275, 'class': 808, 'video': 4783, 'build': 605, 'owner': 3187, 'manag': 2726, 'arrest': 231, 'south': 4173, 'korean': 2488, 'fire': 1702, 'austrian': 290, 'parent': 3222, 'teacher': 4443, 'sacrific': 3849, 'young': 4982, 'girl': 1875, 'liber': 2602, 'teen': 4450, 'refuge': 3641, 'sexual': 4002, 'abus': 17, 'school': 3906, 'month': 2912, 'japan': 2361, 'busi': 626, 'lobbi': 2637, 'throw': 4503, 'weight': 4870, 'behind': 406, 'pm': 3356, 'abe': 6, 'wage': 4819, 'hike': 2092, 'plan': 3338, 'cuba': 1081, 'discuss': 1297, 'detent': 1242, 'wake': 4823, 'elect': 1438, 'left': 2574, 'go': 1892, 'realli': 3605, 'carolina': 679, 'answer': 180, 'question': 3537, 'gun': 1978, 'swiss': 4395, 'urg': 4739, 'voter': 4814, 'keep': 2439, 'fee': 1660, 'public': 3507, 'broadcast': 584, 'uk': 4660, 'princ': 3448, 'harri': 2027, 'say': 3887, 'troop': 4612, 'need': 2999, 'mental': 2813, 'well': 4876, 'physic': 3315, 'fit': 1713, 'combat': 877, 'train': 4578, 'judg': 2410, 'napolitano': 2977, 'reckless': 3618, 'hillari': 2095, 'email': 1454, 'could': 1005, 'respons': 3717, 'death': 1142, 'cia': 788, 'fbi': 1650, 'agent': 85, 'priceless': 3442, 'watch': 4847, 'bill': 448, 'clinton': 828, 'awkward': 303, 'ask': 246, 'pervert': 3300, 'past': 3242, 'fair': 1612, 'game': 1833, 'former': 1761, 'girlfriend': 1876, 'ny': 3078, 'time': 4517, 'stori': 4290, 'histori': 2104, 'women': 4929, 'distract': 1317, 'republican': 3697, 'gut': 1984, 'right': 3772, 'yet': 4976, 'anoth': 179, 'state': 4254, 'detail': 1238, 'green': 1948, 'fund': 1815, 'new': 3018, 'cash': 687, 'challeng': 728, 'era': 1510, 'make': 2715, 'racist': 3549, 'attack': 273, 'expos': 1590, 'univers': 4706, 'bust': 628, 'steel': 4263, 'union': 4702, 'furious': 1823, 'destroy': 1236, 'american': 144, 'love': 2676, 'veteran': 4776, 'much': 2945, 'tri': 4600, 'sweep': 4389, 'foreign': 1753, 'diplomat': 1273, 'voic': 4807, 'alarm': 106, 'studi': 4316, 'us': 4742, 'europ': 1532, 'top': 4546, 'arm': 224, 'trade': 4570, 'global': 1885, 'saudi': 3883, 'arabia': 212, 'weapon': 4860, 'import': 2221, 'skyrocket': 4095, 'percent': 3285, 'want': 4830, 'miss': 2867, 'talk': 4421, 'detroit': 1244, 'legal': 2579, 'fear': 1654, 'push': 3525, 'newsweek': 3023, 'delet': 1190, 'articl': 237, 'use': 4745, 'smear': 4121, 'news': 3021, 'indiana': 2242, 'black': 466, 'male': 2719, 'sever': 3997, 'shot': 4044, 'truck': 4614, 'america': 143, 'great': 1942, 'usa': 4743, 'flag': 1717, 'help': 2073, 'polic': 3368, 'find': 1695, 'syrian': 4403, 'armi': 225, 'oust': 3159, 'last': 2526, 'central': 716, 'syria': 4402, 'pocket': 3360, 'militari': 2845, 'sourc': 4172, 'hous': 2142, 'gone': 1902, 'dark': 1121, 'cnn': 843, 'vogu': 4806, 'publish': 3508, 'teach': 4442, 'anal': 153, 'sex': 3998, 'ted': 4449, 'cruz': 1079, 'suffer': 4342, 'insan': 2274, 'meltdown': 2804, 'someon': 4159, 'support': 4355, 'samantha': 3865, 'bee': 394, 'invit': 2318, 'fan': 1626, 'parti': 3232, 'hell': 2070, 'broke': 586, 'loos': 2657, 'twitter': 4647, 'dec': 1149, 'congression': 939, 'race': 3545, 'accid': 24, 'tax': 4437, 'cut': 1097, 'iran': 2325, 'may': 2774, 'releas': 3667, 'prison': 3453, 'hostag': 2137, 'demand': 1198, 'deal': 1137, 'inaugur': 2229, 'eve': 1539, 'swamp': 4382, 'washington': 4844, 'face': 1603, 'long': 2651, 'odd': 3105, 'california': 643, 'court': 1021, 'two': 4648, 'give': 1879, 'nune': 3074, 'intellig': 2290, 'nyt': 3082, 'obama': 3085, 'warn': 4837, 'flynn': 1738, 'thought': 4495, 'joke': 2398, 'matti': 2772, 'hope': 2129, 'free': 1788, 'pakistan': 3202, 'boost': 524, 'cooper': 986, 'one': 3127, 'advis': 65, 'page': 3197, 'meet': 2798, 'politician': 3374, 'moscow': 2925, 'ria': 3759, 'racism': 3548, 'czar': 1101, 'reverend': 3746, 'al': 103, 'sharpton': 4018, 'feder': 1659, 'forc': 1750, 'patriot': 3249, 'artist': 238, 'latest': 2530, 'tribut': 4604, 'forgotten': 1758, 'special': 4188, 'envoy': 1499, 'poland': 3367, 'open': 3132, 'debat': 1143, 'judici': 2411, 'reform': 3639, 'win': 4907, 'senat': 3968, 'runoff': 3836, 'louisiana': 2675, 'seat': 3939, 'flight': 1729, 'abu': 16, 'emerg': 1461, 'land': 2515, 'australia': 287, 'russia': 3839, 'rebuild': 3611, 'energi': 1480, 'facil': 1605, 'russian': 3840, 'deputi': 1221, 'china': 772, 'pledg': 3350, 'provid': 3500, 'inform': 2261, 'daili': 1106, 'sudan': 4339, 'presid': 3429, 'connect': 943, 'sanction': 3868, 'businessman': 627, 'col': 857, 'oliv': 3124, 'north': 3057, 'five': 1714, 'fact': 1606, 'prove': 3498, 'polici': 3370, 'led': 2572, 'rise': 3780, 'isi': 2337, 'soldier': 4150, 'transgend': 4584, 'ban': 338, 'sens': 3971, 'factbox': 1607, 'obamacar': 3086, 'would': 4945, 'repeal': 3688, 'medicaid': 2794, 'expans': 1577, 'four': 1772, 'canada': 656, 'helicopt': 2069, 'crash': 1037, 'nobodi': 3047, 'donald': 1345, 'even': 1540, 'english': 1485, 'committe': 894, 'uncov': 4680, 'damn': 1113, 'bombshel': 514, 'paid': 3199, 'michael': 2828, 'appear': 199, 'putin': 3527, 'britain': 579, 'join': 2396, 'blame': 470, 'korea': 2487, 'brazil': 560, 'resum': 3727, 'murder': 2954, 'trial': 4601, 'mine': 2854, 'disast': 1286, 'tip': 4520, 'bear': 386, 'back': 308, 'mock': 2888, 'vote': 4813, 'never': 3016, 'forget': 1755, 'brag': 552, 'manhattan': 2731, 'today': 4525, 'bunch': 613, 'lawsuit': 2553, 'number': 3073, 'mind': 2853, 'blow': 491, 'migrant': 2839, 'serbia': 3981, 'brave': 557, 'winter': 4913, 'cross': 1067, 'eu': 1530, 'chamber': 729, 'commerc': 888, 'clean': 816, 'power': 3409, 'increas': 2237, 'poverti': 3407, 'wh': 4880, 'fake': 1614, 'isra': 2342, 'cast': 689, 'doubt': 1356, 'shell': 4024, 'hezbollah': 2081, 'speaker': 4187, 'ryan': 3842, 'believ': 412, 'upbeat': 4728, 'treasuri': 4592, 'boiler': 506, 'room': 3811, 'ep': 1500, 'world': 4937, 'order': 3148, 'burger': 618, 'someth': 4160, 'panic': 3213, 'mueller': 2946, 'investig': 2316, 'close': 833, 'gunmen': 1981, 'convoy': 980, 'kenya': 2446, 'hit': 2105, 'golf': 1901, 'ball': 331, 'bigot': 443, 'exclud': 1564, 'christian': 784, 'list': 2627, 'possibl': 3398, 'cabinet': 634, 'posit': 3397, 'favor': 1648, 'muslim': 2961, 'take': 4414, 'huge': 2153, 'gulf': 1977, 'taken': 4417, 'zero': 4990, 'ex': 1553, 'punk': 3517, 'rocker': 3794, 'role': 3801, 'assad': 249, 'futur': 1825, 'tillerson': 4515, 'million': 2849, 'peopl': 3282, 'sign': 4061, 'novemb': 3066, 'decemb': 1153, 'panther': 3216, 'leader': 2560, 'send': 3969, 'convent': 975, 'jame': 2357, 'easili': 1410, 'obtain': 3099, 'eminem': 1462, 'ballot': 334, 'undercov': 4682, 'sting': 4278, 'texa': 4474, 'gop': 1907, 'er': 1509, 'shred': 4050, 'comparison': 903, 'latino': 2533, 'band': 340, 'hacker': 1991, 'tweet': 4643, 'cost': 1001, 'modern': 2893, 'nuclear': 3070, 'fall': 1616, 'next': 3025, 'decid': 1156, 'travel': 4590, 'restrict': 3723, 'indian': 2241, 'hear': 2053, 'rohingya': 3799, 'deport': 1217, 'case': 686, 'amid': 145, 'myanmar': 2965, 'violenc': 4795, 'big': 440, 'billion': 451, 'dollar': 1342, 'bailout': 323, 'becom': 392, 'st': 4231, 'bam': 337, 'live': 2632, 'illus': 2203, 'fantasi': 1629, 'pretend': 3435, 'thing': 4490, 'bomb': 512, 'blast': 473, 'charg': 739, 'nation': 2983, 'secur': 3951, 'th': 4478, 'grader': 1925, 'disgrac': 1299, 'citi': 792, 'council': 1007, 'member': 2805, 'wife': 4899, 'repres': 3693, 'chicago': 762, 'yr': 4986, 'old': 3122, 'play': 3344, 'swing': 4393, 'carri': 681, 'brutal': 596, 'retali': 3732, 'dad': 1104, 'gang': 1834, 'accept': 22, 'corpor': 996, 'rate': 3586, 'walmart': 4828, 'melt': 2803, 'ring': 3774, 'confeder': 927, 'refus': 3643, 'fulfil': 1809, 'arkansa': 223, 'woman': 4928, 'refund': 3642, 'payment': 3260, 'hide': 2084, 'disrespect': 1312, 'final': 1692, 'philippin': 3309, 'barack': 350, 'son': 4162, 'bitch': 462, 'exit': 1573, 'ass': 248, 'air': 96, 'stay': 4261, 'leav': 2568, 'ben': 415, 'carson': 683, 'slave': 4101, 'immigr': 2210, 'part': 3231, 'anti': 183, 'speech': 4192, 'fox': 1774, 'bump': 611, 'surpris': 4366, 'candid': 660, 'bottom': 538, 'sell': 3965, 'turn': 4638, 'illeg': 2200, 'alien': 114, 'health': 2049, 'secretari': 3948, 'first': 1708, 'step': 4266, 'holi': 2111, 'berni': 425, 'sander': 3871, 'freebi': 1789, 'happen': 2017, 'random': 3572, 'petit': 3303, 'allow': 124, 'rapist': 3581, 'freed': 1790, 'consid': 949, 'fed': 1658, 'powel': 3408, 'economist': 1418, 'taylor': 4439, 'lead': 2559, 'bank': 342, 'mccain': 2778, 'pentagon': 3281, 'probe': 3460, 'unit': 4703, 'launch': 2540, 'execut': 1568, 'remark': 3675, 'closur': 835, 'consul': 957, 'eas': 1407, 'disput': 1309, 'rant': 3577, 'ever': 1542, 'break': 563, 'blacklivesmatt': 468, 'activist': 41, 'vandal': 4761, 'brand': 555, 'dc': 1131, 'hotel': 2140, 'hey': 2080, 'democrat': 1200, 'discov': 1293, 'foundat': 1770, 'collus': 870, 'look': 2654, 'sit': 4082, 'social': 4141, 'camera': 650, 'shut': 4053, 'wealthi': 4859, 'mexican': 2822, 'quak': 3532, 'aid': 93, 'poor': 3381, 'feel': 1662, 'abandon': 1, 'clear': 818, 'path': 3245, 'budget': 602, 'approv': 209, 'respond': 3716, 'threat': 4497, 'red': 3629, 'line': 2623, 'mp': 2940, 'resign': 3709, 'damag': 1111, 'tie': 4510, 'buri': 619, 'insid': 2275, 'medic': 2793, 'ck': 797, 'billionair': 452, 'neighbor': 3002, 'enter': 1492, 'split': 4207, 'minist': 2858, 'start': 4251, 'war': 4832, 'mexico': 2823, 'drug': 1383, 'divis': 1326, 'law': 2547, 'mps': 2941, 'agenda': 84, 'like': 2617, 'prais': 3412, 'construct': 956, 'spirit': 4204, 'clariti': 805, 'zimbabw': 4992, 'ruler': 3832, 'must': 2962, 'show': 4047, 'resolv': 3712, 'democraci': 1199, 'endors': 1477, 'ivanka': 2350, 'light': 2616, 'heart': 2055, 'xi': 4961, 'convinc': 979, 'end': 1475, 'provoc': 3503, 'hawk': 2044, 'yemen': 4973, 'servic': 3989, 'comey': 882, 'defend': 1175, 'announc': 176, 'pocahonta': 3359, 'warren': 4840, 'tell': 4456, 'crowd': 1070, 'taliban': 4420, 'influenc': 2257, 'territori': 4468, 'afghanistan': 77, 'watchdog': 4848, 'termin': 4465, 'ill': 2199, 'wi': 4895, 'mr': 2942, 'conserv': 948, 'prosecut': 3488, 'key': 2453, 'suprem': 4358, 'justic': 2421, 'scalia': 3890, 'sicken': 4056, 'wors': 4940, 'dingbat': 1269, 'maxin': 2773, 'water': 4849, 'islam': 2338, 'societi': 4143, 'prevent': 3437, 'sharia': 4015, 'enforc': 1481, 'valu': 4759, 'threaten': 4498, 'situat': 4084, 'develop': 1247, 'see': 3952, 'temporari': 4459, 'fix': 1715, 'children': 769, 'program': 3475, 'acknowledg': 33, 'civilian': 796, 'iraq': 2327, 'blogger': 486, 'come': 878, 'hanniti': 2016, 'harass': 2020, 'claim': 801, 'produc': 3466, 'lie': 2611, 'quit': 3540, 'near': 2996, 'lockhe': 2644, 'fighter': 1685, 'jet': 2379, 'jihad': 2383, 'dummi': 1393, 'moham': 2896, 'abdullah': 5, 'caught': 700, 'attempt': 274, 'base': 364, 'lincoln': 2621, 'car': 671, 'slow': 4112, 'motion': 2930, 'germani': 1862, 'size': 4086, 'predict': 3419, 'npr': 3067, 'entir': 1494, 'declar': 1158, 'independ': 2239, 'think': 4491, 'screenshot': 3927, 'eight': 1433, 'protest': 3495, 'ralli': 3562, 'test': 4471, 'appar': 197, 'taiwan': 4412, 'caus': 701, 'troubl': 4613, 'coup': 1016, 'readi': 3599, 'david': 1129, 'davi': 1128, 'proof': 3483, 'brexit': 567, 'summit': 4349, 'eye': 1601, 'alert': 111, 'get': 1865, 'fellow': 1665, 'looni': 2656, 'dem': 1197, 'tucker': 4625, 'carlson': 678, 'heat': 2059, 'delusion': 1196, 'person': 3297, 'senior': 3970, 'let': 2590, 'terrorist': 4470, 'assault': 253, 'knive': 2480, 'drive': 1375, 'shop': 4040, 'area': 216, 'high': 2085, 'speed': 4193, 'wound': 4946, 'shoot': 4038, 'year': 4969, 'day': 1130, 'fight': 1684, 'evil': 1551, 'cop': 988, 'snl': 4132, 'hilari': 2093, 'cold': 859, 'lol': 2648, 'bother': 536, 'protect': 3492, 'serv': 3986, 'benghazi': 418, 'reach': 3593, 'agreement': 90, 'principl': 3450, 'ap': 191, 'monkey': 2907, 'address': 50, 'industri': 2250, 'excess': 1561, 'congress': 938, 'requir': 3700, 'chines': 773, 'journalist': 2406, 'regist': 3648, 'attorney': 278, 'baltimor': 336, 'probabl': 3459, 'due': 1388, 'warrant': 4839, 'gray': 1941, 'coalit': 847, 'begin': 399, 'hunt': 2167, 'save': 3885, 'birther': 459, 'administr': 54, 'larri': 2523, 'slam': 4097, 'rhetor': 3757, 'economi': 1417, 'moral': 2918, 'seek': 3953, 'fourth': 1773, 'term': 4464, 'spur': 4222, 'opposit': 3139, 'low': 2678, 'request': 3699, 'wall': 4826, 'wow': 4947, 'comment': 886, 'lose': 2664, 'brought': 592, 'wear': 4861, 'coal': 846, 'miner': 2855, 'applaud': 201, 'stream': 4299, 'billboard': 449, 'leak': 2563, 'colin': 860, 'felt': 1668, 'friend': 1799, 'greedi': 1946, 'transform': 4583, 'husband': 2173, 'still': 4277, 'king': 2468, 'home': 2116, 'bid': 438, 'italian': 2347, 'jail': 2355, 'denmark': 1208, 'onlin': 3128, 'uniform': 4700, 'offic': 3111, 'dnc': 1331, 'floor': 1734, 'campus': 655, 'less': 2588, 'admit': 57, 'got': 1913, 'extra': 1595, 'credit': 1049, 'van': 4760, 'jone': 2401, 'men': 2811, 'behav': 403, 'belong': 413, 'host': 2136, 'shock': 4035, 'polit': 3372, 'post': 3399, 'michell': 2830, 'imag': 2205, 'hate': 2037, 'matter': 2770, 'oil': 3117, 'ceo': 718, 'employe': 1469, 'award': 300, 'worth': 4944, 'pound': 3405, 'stolen': 4283, 'london': 2649, 'lesbian': 2587, 'ellen': 1449, 'degener': 1184, 'singer': 4077, 'pictur': 3318, 'speak': 4186, 'unreal': 4720, 'manipul': 2733, 'cbo': 706, 'listen': 2628, 'reaction': 3595, 'letterman': 2592, 'suggest': 4343, 'biden': 439, 'third': 4492, 'whoa': 4890, 'supremacist': 4360, 'organ': 3150, 'charlottesvill': 745, 'work': 4935, 'manufactur': 2735, 'creat': 1042, 'intervent': 2307, 'flat': 1724, 'friday': 1798, 'comput': 914, 'radic': 3551, 'leftist': 2576, 'resid': 3708, 'govern': 1916, 'rule': 3831, 'kid': 2459, 'stupid': 4321, 'rank': 3575, 'explos': 1588, 'run': 3834, 'scare': 3896, 'humili': 2159, 'poll': 3376, 'higher': 2086, 'refer': 3635, 'mark': 2746, 'zuckerberg': 4998, 'ride': 3767, 'jr': 2408, 'sh': 4003, 'will': 4904, 'add': 47, 'presidenti': 3430, 'rich': 3762, 'guy': 1986, 'made': 2701, 'fortun': 1763, 'ice': 2182, 'cream': 1041, 'introduc': 2311, 'highlight': 2088, 'suppress': 4357, 'mooch': 2914, 'gear': 1848, 'know': 2482, 'flashback': 1723, 'chang': 734, 'massiv': 2762, 'infrastructur': 2262, 'project': 3477, 'thousand': 4496, 'walk': 4824, 'dead': 1133, 'stun': 4319, 'pro': 3458, 'lgbt': 2598, 'victori': 4782, 'georgia': 1858, 'campaign': 654, 'accus': 30, 'short': 4042, 'divorc': 1327, 'susan': 4374, 'collin': 867, 'betsi': 429, 'devo': 1251, 'beyonc': 433, 'dalla': 1109, 'killer': 2463, 'honest': 2124, 'messag': 2819, 'french': 1794, 'custom': 1096, 'depot': 1218, 'hat': 2035, 'polish': 3371, 'ensur': 1491, 'embrac': 1460, 'surveil': 4370, 'real': 3601, 'truth': 4622, 'plant': 3341, 'small': 4118, 'town': 4564, 'across': 37, 'food': 1745, 'stamp': 4244, 'fraud': 1784, 'takedown': 4415, 'common': 895, 'ignor': 2196, 'director': 1276, 'vinc': 4792, 'foster': 1766, 'found': 1769, 'climat': 825, 'fuel': 1806, 'record': 3623, 'moon': 2916, 'promis': 3479, 'anger': 166, 'mount': 2933, 'potenti': 3403, 'dup': 1395, 'spoke': 4208, 'contend': 963, 'pick': 3317, 'goldman': 1900, 'sach': 3845, 'partner': 3236, 'tap': 4428, 'link': 2625, 'basebal': 365, 'player': 3346, 'word': 4934, 'basketbal': 371, 'arab': 211, 'reject': 3663, 'recognit': 3620, 'jerusalem': 2376, 'capit': 665, 'issu': 2344, 'offshor': 3113, 'drill': 1373, 'thursday': 4506, 'christma': 785, 'crush': 1078, 'best': 426, 'seizur': 3960, 'financi': 1694, 'lawmak': 2550, 'worri': 4939, 'dutch': 1397, 'austria': 289, 'german': 1861, 'road': 3787, 'toll': 4535, 'coverup': 1025, 'major': 2714, 'croni': 1063, 'put': 3526, 'sensit': 3972, 'board': 496, 'colbert': 858, 'bulli': 609, 'jump': 2415, 'control': 972, 'amend': 142, 'deepli': 1170, 'oh': 3115, 'object': 3090, 'abc': 3, 'chief': 766, 'anchor': 159, 'georg': 1857, 'donat': 1346, 'florida': 1736, 'strike': 4307, 'penalti': 3274, 'alleg': 119, 'knew': 2478, 'church': 787, 'scath': 3898, 'athlet': 269, 'disney': 1305, 'tech': 4447, 'emot': 1465, 'testimoni': 4473, 'visit': 4803, 'deliv': 1192, 'giuliani': 1878, 'pathet': 3246, 'excus': 1566, 'disgust': 1301, 'bring': 576, 'paul': 3253, 'petti': 3305, 'rebuk': 3612, 'swap': 4384, 'asset': 257, 'freedom': 1791, 'held': 2068, 'graft': 1927, 'purg': 3521, 'approach': 207, 'achiev': 31, 'ethnic': 1529, 'cleans': 817, 'labor': 2504, 'acosta': 35, 'ross': 3816, 'cnbc': 842, 'wiretap': 4916, 'activ': 40, 'sue': 4341, 'outlet': 3166, 'negat': 3000, 'comedi': 880, 'gold': 1897, 'goe': 1895, 'bonker': 517, 'withdraw': 4921, 'pari': 3224, 'accord': 27, 'czech': 1102, 'parliament': 3227, 'prospect': 3490, 'babi': 306, 'boy': 545, 'target': 4431, 'gender': 1850, 'neutral': 3014, 'toy': 4566, 'label': 2503, 'thailand': 4481, 'gov': 1915, 'scott': 3919, 'walker': 4825, 'abl': 10, 'bodi': 500, 'welfar': 4875, 'elit': 1447, 'remov': 3678, 'statu': 4259, 'alon': 127, 'subpoena': 4328, 'sailor': 3857, 'microphon': 2832, 'oregon': 3149, 'tragedi': 4575, 'mic': 2827, 'multipl': 2951, 'absolut': 14, 'bullsh': 610, 'bash': 367, 'network': 3013, 'resettl': 3706, 'domin': 1344, 'slap': 4098, 'foe': 1741, 'desper': 1232, 'recruit': 3627, 'passport': 3241, 'mistak': 2873, 'commit': 893, 'heck': 2062, 'gore': 1909, 'team': 4444, 'famili': 1623, 'dog': 1339, 'poison': 3366, 'flint': 1730, 'toxic': 4565, 'man': 2724, 'british': 580, 'hungari': 2163, 'detain': 1239, 'hondura': 2122, 'count': 1009, 'edg': 1420, 'ahead': 92, 'pac': 3191, 'scalis': 3891, 'reuter': 3740, 'chris': 781, 'wallac': 4827, 'laura': 2542, 'ingraham': 2265, 'follow': 1744, 'knock': 2481, 'punch': 3514, 'pull': 3511, 'argument': 220, 'suppli': 4354, 'googl': 1906, 'vs': 4817, 'witch': 4920, 'michigan': 2831, 'elector': 1439, 'receiv': 3614, 'violent': 4796, 'angri': 169, 'alabama': 104, 'stand': 4246, 'moor': 2917, 'signific': 4064, 'gap': 1836, 'remain': 3673, 'restor': 3721, 'northern': 3059, 'irish': 2331, 'share': 4014, 'confront': 934, 'behavior': 404, 'engag': 1482, 'thank': 4482, 'york': 4980, 'socialist': 4142, 'mayor': 2776, 'pee': 3270, 'street': 4301, 'wing': 4910, 'disguis': 1300, 'hurrican': 2171, 'spain': 4180, 'conduct': 926, 'catalonia': 694, 'region': 3647, 'except': 1560, 'propos': 3487, 'pact': 3196, 'kerri': 2450, 'hello': 2071, 'delta': 1194, 'fli': 1728, 'weekend': 4868, 'critic': 1060, 'revers': 3747, 'choic': 775, 'mugab': 2947, 'defens': 1176, 'accident': 25, 'spi': 4198, 'msnbc': 2943, 'interview': 2308, 'wait': 4820, 'helm': 2072, 'martial': 2754, 'ranger': 3574, 'saw': 3886, 'roy': 3824, 'stock': 4280, 'market': 2747, 'financ': 1693, 'jason': 2365, 'chaffetz': 724, 'dump': 1394, 'fail': 1610, 'impress': 2224, 'microsoft': 2833, 'whether': 4883, 'bought': 539, 'ad': 45, 'search': 3937, 'engin': 1483, 'patrick': 3248, 'henningsen': 2075, 'guest': 1970, 'shawn': 4020, 'helton': 2074, 'trend': 4597, 'ladi': 2508, 'diamond': 1254, 'silk': 4068, 'silent': 4066, 'spoken': 4209, 'keith': 2440, 'olbermann': 3121, 'beg': 398, 'intel': 2289, 'agenc': 83, 'asian': 244, 'among': 148, 'option': 3145, 'replac': 3690, 'macri': 2697, 'argentina': 218, 'mid': 2834, 'deplor': 1215, 'cheer': 753, 'turkey': 4635, 'newspap': 3022, 'staff': 4237, 'told': 4533, 'middl': 2835, 'east': 1411, 'reason': 3606, 'rag': 3553, 'civil': 795, 'headlin': 2046, 'avert': 294, 'downgrad': 1358, 'pension': 3280, 'grow': 1960, 'japanes': 2362, 'mani': 2732, 'countri': 1015, 'illinoi': 2202, 'hire': 2099, 'effort': 1428, 'curb': 1088, 'beat': 387, 'offer': 3110, 'crown': 1071, 'venezuela': 4769, 'shortag': 4043, 'econom': 1416, 'african': 80, 'asylum': 266, 'move': 2936, 'around': 228, 'settlement': 3995, 'mediat': 2792, 'sea': 3933, 'vow': 4815, 'undo': 4689, 'cuban': 1082, 'regret': 3650, 'assur': 264, 'franc': 1779, 'recogn': 3619, 'unilater': 4701, 'catalan': 693, 'bad': 316, 'memo': 2808, 'indict': 2244, 'jeanin': 2367, 'reveal': 3742, 'session': 3990, 'indonesian': 2249, 'child': 767, 'damascus': 1112, 'rebel': 3608, 'judiciari': 2412, 'chairman': 727, 'lawyer': 2554, 'met': 2820, 'suspect': 4375, 'disappear': 1282, 'focus': 1740, 'tackl': 4408, 'extrem': 1598, 'spokesman': 4210, 'guatemalan': 1967, 'burn': 620, 'las': 2524, 'vega': 4766, 'film': 1690, 'act': 38, 'might': 2838, 'expect': 1578, 'perfect': 3287, 'facebook': 1604, 'badass': 317, 'feminist': 1671, 'vice': 4779, 'medal': 2789, 'rush': 3838, 'limbaugh': 2618, 'rape': 3579, 'audio': 282, 'egypt': 1431, 'suspicion': 4379, 'espionag': 1521, 'apolog': 194, 'offens': 3109, 'dirti': 1278, 'secret': 3947, 'agit': 87, 'freeport': 1792, 'indonesia': 2248, 'access': 23, 'gotcha': 1914, 'moment': 2899, 'singapor': 4076, 'colleagu': 863, 'prepar': 3424, 'upon': 4734, 'negoti': 3001, 'geneva': 1853, 'homeland': 2117, 'johnson': 2395, 'testifi': 4472, 'panel': 3211, 'review': 3748, 'tusk': 4640, 'blind': 479, 'southern': 4175, 'clooney': 832, 'camp': 653, 'erect': 1513, 'front': 1801, 'yard': 4967, 'waiver': 4822, 'merkel': 2816, 'alli': 122, 'confid': 930, 'problem': 3461, 'liar': 2599, 'miser': 2865, 'guess': 1969, 'invest': 2315, 'cannot': 662, 'madrid': 2702, 'alreadi': 129, 'rice': 3761, 'scandal': 3893, 'canadian': 657, 'island': 2340, 'welcom': 4874, 'popular': 3386, 'disclosur': 1292, 'awesom': 302, 'photo': 3313, 'captur': 670, 'retir': 3735, 'navi': 2990, 'seal': 3935, 'somebodi': 4157, 'sister': 4081, 'concert': 920, 'brilliant': 575, 'fieri': 1682, 'caitlyn': 641, 'jenner': 2370, 'outrag': 3168, 'nz': 3083, 'labour': 2505, 'daughter': 1126, 'pedophil': 3268, 'audienc': 281, 'discredit': 1295, 'pope': 3384, 'jordan': 2403, 'substanc': 4330, 'amnesti': 147, 'koch': 2484, 'brother': 590, 'disappoint': 1283, 'measur': 2787, 'debt': 1146, 'limit': 2620, 'evid': 1550, 'broad': 583, 'implement': 2217, 'expert': 1582, 'cow': 1026, 'check': 751, 'funnel': 1819, 'slush': 4115, 'wikileak': 4900, 'hater': 2038, 'megyn': 2801, 'kelli': 2441, 'arrang': 230, 'monday': 2902, 'express': 1591, 'taxpay': 4438, 'vacanc': 4753, 'governor': 1917, 'crisi': 1059, 'late': 2528, 'night': 3038, 'utter': 4750, 'juli': 2413, 'healthcar': 2050, 'coupl': 1017, 'spot': 4216, 'hand': 2007, 'kellyann': 2442, 'conway': 982, 'tv': 4641, 'display': 1308, 'incompet': 2235, 'fine': 1696, 'punish': 3516, 'pray': 3413, 'boss': 532, 'pelosi': 3271, 'trust': 4621, 'dreamer': 1370, 'relat': 3664, 'elizabeth': 1448, 'align': 115, 'fundrais': 1817, 'continu': 966, 'affect': 71, 'went': 4877, 'viral': 4797, 'rip': 3779, 'huffington': 2151, 'mother': 2929, 'cri': 1054, 'kick': 2458, 'basket': 370, 'anthem': 181, 'faith': 1613, 'ovat': 3174, 'cyber': 1098, 'gain': 1832, 'client': 824, 'reid': 3655, 'crazi': 1039, 'depart': 1211, 'interfer': 2298, 'denni': 1209, 'nail': 2971, 'sick': 4055, 'goodby': 1905, 'boat': 498, 'capsiz': 668, 'dept': 1220, 'ok': 3118, 'sale': 3860, 'vehicl': 4767, 'movement': 2937, 'uniti': 4704, 'huma': 2155, 'abedin': 7, 'deni': 1205, 'citizen': 793, 'center': 715, 'pastor': 3243, 'drop': 1379, 'toler': 4534, 'lover': 2677, 'fume': 1812, 'fast': 1641, 'theresa': 4488, 'growth': 1961, 'mnuchin': 2885, 'balanc': 327, 'hot': 2139, 'catch': 696, 'snarki': 4130, 'storm': 4291, 'dartmouth': 1122, 'librari': 2607, 'cks': 800, 'insult': 2285, 'wonder': 4930, 'set': 3991, 'littl': 2631, 'popul': 3385, 'gate': 1843, 'unlimit': 4711, 'permit': 3293, 'week': 4867, 'slash': 4099, 'gillibrand': 1871, 'sexist': 4000, 'kkk': 2473, 'grand': 1930, 'imperi': 2216, 'regul': 3651, 'airlin': 98, 'brace': 550, 'passeng': 3239, 'irma': 2332, 'malia': 2721, 'pander': 3210, 'empti': 1470, 'entri': 1496, 'brussel': 595, 'overhaul': 3176, 'vp': 4816, 'penc': 3275, 'karen': 2429, 'abrupt': 13, 'unpatriot': 4716, 'nfl': 3026, 'lay': 2556, 'wast': 4846, 'anyon': 187, 'bigotri': 444, 'spill': 4200, 'bean': 385, 'abba': 2, 'palestinian': 3207, 'dismiss': 1304, 'peac': 3264, 'graphic': 1936, 'ukrain': 4662, 'peacekeep': 3265, 'full': 1810, 'trip': 4609, 'snap': 4129, 'note': 3062, 'confirm': 931, 'updat': 4730, 'wapo': 4831, 'derail': 1222, 'lunch': 2688, 'exclus': 1565, 'ipso': 2323, 'cabl': 635, 'israel': 2343, 'netanyahu': 3011, 'peru': 3299, 'pass': 3238, 'marijuana': 2744, 'hastert': 2034, 'partisan': 3235, 'explod': 1585, 'hijack': 2091, 'mainstream': 2712, 'maher': 2709, 'mass': 2759, 'nye': 3080, 'explain': 1583, 'innoc': 2272, 'turkish': 4636, 'overthrow': 3181, 'equal': 1506, 'jew': 2380, 'okay': 3119, 'depend': 1213, 'amaz': 135, 'bastard': 372, 'belgian': 409, 'commission': 892, 'nomin': 3050, 'unload': 4712, 'strategist': 4298, 'pyongyang': 3528, 'non': 3052, 'spend': 4195, 'bubbl': 598, 'tx': 4649, 'rep': 3684, 'sheila': 4023, 'jackson': 2354, 'lee': 2573, 'ten': 4461, 'lesson': 2589, 'learn': 2566, 'park': 3225, 'troll': 4611, 'silenc': 4065, 'departur': 1212, 'noth': 3063, 'congressman': 940, 'practic': 3411, 'marin': 2745, 'wish': 4918, 'beyond': 434, 'nbc': 2993, 'tom': 4536, 'morn': 2921, 'joe': 2391, 'hack': 1990, 'cohn': 856, 'wrote': 4957, 'letter': 2591, 'hold': 2108, 'crime': 1055, 'aim': 95, 'sweden': 4387, 'cambodia': 647, 'cking': 799, 'rememb': 3676, 'reserv': 3704, 'said': 3856, 'terrifi': 4467, 'croatia': 1062, 'serb': 3980, 'paramilitari': 3220, 'command': 884, 'propaganda': 3485, 'salli': 3862, 'yate': 4968, 'assess': 256, 'coat': 849, 'immedi': 2208, 'halt': 2001, 'terror': 4469, 'doj': 1340, 'iraqi': 2328, 'momentum': 2900, 'divest': 1324, 'ship': 4032, 'interest': 2295, 'meghan': 2800, 'joy': 2407, 'behar': 402, 'embarrass': 1456, 'brian': 568, 'view': 4787, 'minnesota': 2860, 'oper': 3133, 'deutsch': 1245, 'nomine': 3051, 'head': 2045, 'appeal': 198, 'signal': 4062, 'ouch': 3158, 'scoobi': 3914, 'bus': 624, 'scene': 3900, 'connecticut': 944, 'general': 1851, 'other': 3157, 'equifax': 1507, 'collect': 864, 'qaeda': 3529, 'milit': 2844, 'drone': 1378, 'fundament': 1816, 'haley': 1997, 'separ': 3976, 'regim': 3646, 'account': 28, 'tactic': 4410, 'sara': 3876, 'liberia': 2603, 'hurt': 2172, 'hammer': 2004, 'obvious': 3100, 'glorious': 1888, 'action': 39, 'limbo': 2619, 'rubio': 3827, 'hampshir': 2006, 'primari': 3446, 'sink': 4079, 'spokesperson': 4211, 'fun': 1813, 'hair': 1994, 'handl': 2010, 'phone': 3311, 'press': 3431, 'often': 3114, 'lindsey': 2622, 'graham': 1928, 'controversi': 973, 'gift': 1869, 'god': 1894, 'alec': 109, 'baldwin': 328, 'singl': 4078, 'panama': 3209, 'visa': 4801, 'lift': 2615, 'somalia': 4156, 'group': 1959, 'havana': 2041, 'embassi': 1457, 'tension': 4463, 'flare': 1721, 'adopt': 58, 'euro': 1531, 'within': 4924, 'prime': 3447, 'intern': 2301, 'admiss': 56, 'better': 431, 'prostitut': 3491, 'father': 1646, 'away': 301, 'care': 674, 'actor': 42, 'ferguson': 1674, 'bogus': 504, 'version': 4774, 'actual': 44, 'transcript': 4581, 'counsel': 1008, 'document': 1334, 'reilli': 3657, 'fatal': 1644, 'tunnel': 4632, 'hour': 2141, 'oop': 3130, 'marriag': 2750, 'crook': 1064, 'haitian': 1996, 'lib': 2600, 'dan': 1115, 'rather': 3587, 'woodsh': 4933, 'temporarili': 4460, 'block': 484, 'nationwid': 2985, 'tape': 4429, 'glad': 1881, 'raid': 3555, 'bett': 430, 'midler': 2837, 'everi': 1543, 'scotus': 3921, 'multi': 2950, 'stage': 4239, 'net': 3010, 'currenc': 1090, 'research': 3703, 'bilderberg': 447, 'virginia': 4799, 'advisor': 66, 'romanian': 3805, 'communic': 896, 'firm': 1707, 'immun': 2212, 'espn': 1522, 'writer': 4953, 'sing': 4075, 'hero': 2078, 'ambush': 141, 'safeti': 3854, 'confer': 928, 'tpp': 4567, 'mcconnel': 2781, 'mike': 2842, 'row': 3823, 'nationalist': 2984, 'john': 2393, 'cat': 692, 'incid': 2230, 'apart': 192, 'india': 2240, 'modi': 2894, 'colombia': 871, 'spd': 4185, 'comeback': 879, 'rino': 3775, 'jon': 2400, 'rifl': 3769, 'oppos': 3138, 'movi': 2938, 'style': 4322, 'station': 4257, 'tehran': 4453, 'intensifi': 2292, 'idlib': 2193, 'wit': 4919, 'reader': 3598, 'dose': 1353, 'em': 1453, 'tear': 4445, 'bloodi': 488, 'condemn': 924, 'impact': 2213, 'disabl': 1279, 'mom': 2898, 'cruel': 1073, 'door': 1352, 'strengthen': 4304, 'bow': 542, 'assum': 263, 'ft': 1805, 'priest': 3445, 'disagr': 1280, 'roil': 3800, 'imam': 2207, 'assist': 260, 'cathol': 698, 'id': 2185, 'religion': 3671, 'macron': 2698, 'distanc': 1316, 'romney': 3807, 'shame': 4011, 'sack': 3846, 'incred': 2238, 'unlik': 4710, 'featur': 1655, 'kiss': 2472, 'sport': 4215, 'stadium': 4236, 'kuwait': 2497, 'pay': 3256, 'daca': 1103, 'decis': 1157, 'involv': 2320, 'seen': 3956, 'joint': 2397, 'schulz': 3908, 'crack': 1032, 'assassin': 252, 'shed': 4021, 'corrupt': 999, 'crusad': 1077, 'anderson': 160, 'nasti': 2982, 'karma': 2431, 'zombi': 4995, 'declin': 1160, 'western': 4879, 'factori': 1609, 'zone': 4996, 'vietnam': 4785, 'autonomi': 293, 'trey': 4599, 'gowdi': 1919, 'lawless': 2549, 'loretta': 2662, 'lynch': 2694, 'total': 4553, 'local': 2639, 'sheriff': 4028, 'escort': 1519, 'libyan': 2609, 'festiv': 1676, 'quot': 3542, 'boehner': 503, 'congratul': 937, 'rican': 3760, 'healthi': 2051, 'shooter': 4039, 'fanat': 1627, 'loser': 2665, 'settl': 3994, 'own': 3186, 'mask': 2758, 'asia': 243, 'wind': 4908, 'tour': 4558, 'deadlock': 1135, 'cautious': 703, 'optimist': 3144, 'thai': 4480, 'royal': 3825, 'shake': 4009, 'palac': 3205, 'balloon': 333, 'hyster': 2177, 'pop': 3382, 'respect': 3715, 'laugh': 2537, 'logo': 2647, 'jim': 2387, 'weiner': 4871, 'laptop': 2520, 'cleveland': 822, 'blood': 487, 'dip': 1271, 'soro': 4166, 'communiti': 899, 'roll': 3802, 'agre': 89, 'code': 852, 'lou': 2670, 'dobb': 1332, 'spent': 4196, 'undermin': 4685, 'core': 990, 'stanc': 4245, 'delay': 1188, 'januari': 2360, 'rancher': 3570, 'bundi': 614, 'occup': 3101, 'refug': 3640, 'nightmar': 3040, 'seahawk': 3934, 'taunt': 4436, 'femal': 1670, 'lot': 2668, 'money': 2903, 'energ': 1479, 'chariti': 740, 'kasich': 2432, 'survey': 4371, 'deploy': 1216, 'jeb': 2368, 'bush': 625, 'recent': 3615, 'islamist': 2339, 'boo': 520, 'pacif': 3193, 'naacp': 2969, 'blm': 482, 'rioter': 3778, 'demonstr': 1203, 'toss': 4552, 'suit': 4345, 'deceit': 1152, 'dishonest': 1302, 'bet': 427, 'mate': 2765, 'wsj': 4958, 'crew': 1053, 'injur': 2268, 'eastern': 1413, 'actress': 43, 'blunt': 495, 'dixi': 1328, 'chick': 763, 'ammon': 146, 'ridicul': 3768, 'hill': 2094, 'mtv': 2944, 'jersey': 2375, 'shore': 4041, 'realiti': 3603, 'star': 4249, 'warm': 4836, 'funni': 1820, 'millenni': 2848, 'casualti': 691, 'meddl': 2790, 'honduran': 2123, 'song': 4163, 'erupt': 1516, 'stomp': 4284, 'religi': 3670, 'timelin': 4518, 'nepal': 3007, 'rocki': 3796, 'antifa': 184, 'airport': 99, 'sri': 4227, 'lanka': 2519, 'belt': 414, 'pinera': 3327, 'chile': 770, 'either': 1434, 'side': 4057, 'sabotag': 3844, 'closer': 834, 'orban': 3147, 'grant': 1935, 'struggl': 4314, 'earli': 1403, 'statehous': 4255, 'pal': 3204, 'recus': 3628, 'crimin': 1056, 'despit': 1234, 'privat': 3455, 'impeach': 2215, 'cours': 1020, 'epa': 1501, 'transit': 4585, 'volunt': 4811, 'creepi': 1052, 'unconstitut': 4679, 'loyalti': 2682, 'puigdemont': 3510, 'whine': 4884, 'rig': 3771, 'dossier': 1354, 'outlin': 3167, 'kremlin': 2490, 'blackmail': 469, 'compani': 901, 'foot': 1747, 'scheme': 3903, 'divid': 1325, 'mail': 2710, 'way': 4855, 'hard': 2022, 'ireland': 2330, 'sanctuari': 3869, 'libya': 2608, 'op': 3131, 'mission': 2869, 'giant': 1868, 'gonna': 1903, 'suspend': 4376, 'beij': 407, 'hollywood': 2114, 'donor': 1350, 'harvey': 2032, 'weinstein': 4872, 'erdogan': 1512, 'sacrif': 3848, 'strateg': 4296, 'wild': 4902, 'bangladesh': 341, 'rare': 3584, 'exchang': 1562, 'extend': 1592, 'blacklist': 467, 'turmoil': 4637, 'surg': 4363, 'nikki': 3041, 'cher': 758, 'user': 4746, 'easier': 1409, 'invok': 2319, 'holocaust': 2115, 'denounc': 1210, 'jare': 2363, 'kushner': 2496, 'banker': 343, 'electr': 1440, 'mlk': 2882, 'honor': 2126, 'centuri': 717, 'kidnap': 2460, 'tortur': 4551, 'danger': 1117, 'clarifi': 804, 'sec': 3942, 'conflict': 933, 'somali': 4155, 'guilti': 1974, 'accomplish': 26, 'goal': 1893, 'shift': 4031, 'nato': 2987, 'sour': 4171, 'frighten': 1800, 'observ': 3094, 'sudden': 4340, 'jimmi': 2388, 'digit': 1265, 'tabloid': 4407, 'meme': 2807, 'leagu': 2562, 'shadow': 4007, 'sandi': 3872, 'hook': 2128, 'conspiraci': 952, 'nut': 3077, 'alex': 112, 'unleash': 4708, 'inner': 2271, 'nervous': 3009, 'nafta': 2970, 'australian': 288, 'event': 1541, 'deserv': 1229, 'safe': 3851, 'place': 3336, 'brown': 593, 'arriv': 232, 'domest': 1343, 'sarah': 3877, 'palin': 3208, 'die': 1260, 'biggest': 442, 'cover': 1023, 'pearl': 3266, 'harbor': 2021, 'straight': 4292, 'metro': 2821, 'boom': 523, 'suicid': 4344, 'bomber': 513, 'nigeria': 3036, 'mosqu': 2926, 'benefit': 417, 'classless': 812, 'porn': 3388, 'site': 4083, 'missil': 2868, 'cuomo': 1086, 'transfer': 4582, 'guantanamo': 1963, 'inmat': 2270, 'wane': 4829, 'card': 673, 'treatment': 4595, 'dash': 1123, 'cam': 646, 'scottish': 3920, 'packag': 3195, 'ministri': 2859, 'name': 2975, 'infuri': 2263, 'expand': 1576, 'gorsuch': 1912, 'smuggl': 4127, 'crackdown': 1033, 'trigger': 4607, 'clash': 807, 'epic': 1502, 'smackdown': 4117, 'wrong': 4955, 'carbon': 672, 'far': 1631, 'good': 1904, 'harm': 2026, 'fret': 1796, 'hang': 2014, 'spat': 4184, 'soon': 4164, 'fema': 1669, 'sure': 4361, 'puppet': 3518, 'brawl': 559, 'uganda': 4657, 'second': 3945, 'age': 82, 'dutert': 1398, 'burundi': 623, 'sean': 3936, 'slain': 4096, 'staffer': 4238, 'sorri': 4167, 'happi': 2018, 'boycott': 547, 'rescind': 3701, 'bathroom': 374, 'angrili': 170, 'choos': 778, 'six': 4085, 'success': 4335, 'auto': 292, 'collid': 866, 'christi': 783, 'result': 3726, 'enough': 1486, 'pre': 3415, 'condit': 925, 'scream': 3925, 'lung': 2689, 'loud': 2671, 'goper': 1908, 'trumpcar': 4619, 'wreck': 4949, 'hall': 1999, 'statement': 4256, 'websit': 4863, 'resort': 3713, 'tree': 4596, 'amount': 149, 'bird': 456, 'monica': 2905, 'lewinski': 2597, 'relax': 3666, 'legisl': 2582, 'els': 1452, 'contradict': 970, 'lost': 2667, 'southeast': 4174, 'includ': 2232, 'caucus': 699, 'chair': 726, 'stranger': 4295, 'fiction': 1679, 'survivor': 4373, 'sponsor': 4213, 'dhs': 1252, 'cowboy': 1028, 'pic': 3316, 'neck': 2998, 'slit': 4108, 'spanish': 4181, 'massacr': 2761, 'reward': 3755, 'doubl': 1355, 'soda': 4144, 'payer': 3259, 'shelv': 4026, 'solut': 4153, 'playbook': 3345, 'info': 2260, 'plane': 3339, 'ag': 81, 'design': 1230, 'videotap': 4784, 'hussein': 2174, 'decept': 1155, 'maria': 2743, 'revel': 3743, 'poster': 3400, 'born': 529, 'via': 4778, 'perform': 3288, 'wildlif': 4903, 'neo': 3005, 'nazi': 2991, 'fill': 1689, 'charli': 743, 'serial': 3984, 'hippi': 2098, 'cultur': 1084, 'cult': 1083, 'membership': 2806, 'adult': 60, 'hypocrit': 2176, 'eric': 1514, 'bleed': 476, 'schaeubl': 3901, 'osc': 3154, 'ceasefir': 708, 'violat': 4794, 'book': 521, 'jill': 2386, 'stein': 4264, 'pennsylvania': 3279, 'recount': 3624, 'price': 3441, 'tag': 4411, 'electron': 1441, 'known': 2483, 'drama': 1365, 'discrimin': 1296, 'teenag': 4451, 'vanish': 4763, 'machin': 2696, 'sold': 4149, 'bargain': 357, 'melania': 2802, 'citizenship': 794, 'owe': 3185, 'hundr': 2161, 'master': 2763, 'worst': 4943, 'farewel': 1635, 'kingmak': 2470, 'plot': 3351, 'anonym': 178, 'swedish': 4388, 'pois': 3365, 'politic': 3373, 'legaci': 2578, 'profession': 3470, 'allah': 117, 'shirt': 4034, 'youtub': 4984, 'ugli': 4659, 'confess': 929, 'debut': 1148, 'unpopular': 4717, 'cite': 791, 'traitor': 4579, 'clapper': 803, 'debunk': 1147, 'wolf': 4927, 'blitzer': 481, 'danc': 1116, 'bias': 436, 'horror': 2133, 'complaint': 907, 'rainbow': 3558, 'suspici': 4378, 'vatican': 4764, 'launder': 2541, 'stoog': 4287, 'devin': 1250, 'ethic': 1527, 'attent': 276, 'newt': 3024, 'gingrich': 1872, 'oath': 3084, 'uncertainti': 4674, 'fool': 1746, 'exercis': 1570, 'referendum': 3636, 'trudeau': 4615, 'data': 1124, 'kneel': 2476, 'unchang': 4675, 'grassley': 1938, 'out': 3161, 'schiff': 3904, 'though': 4494, 'qatar': 3530, 'veto': 4777, 'rick': 3764, 'bizarr': 465, 'starbuck': 4250, 'lebanon': 2570, 'anniversari': 175, 'peter': 3302, 'smith': 4123, 'sought': 4169, 'tighten': 4512, 'awar': 299, 'concern': 919, 'constitut': 955, 'redux': 3633, 'peddl': 3267, 'wwii': 4960, 'return': 3738, 'ago': 88, 'longtim': 2653, 'ambassador': 137, 'scrutini': 3931, 'vet': 4775, 'collaps': 861, 'vietnames': 4786, 'communist': 898, 'farc': 1633, 'feb': 1656, 'jeff': 2369, 'lebanes': 2569, 'sunday': 4351, 'blumenth': 494, 'balkan': 330, 'ideolog': 2190, 'maryland': 2757, 'sentenc': 3974, 'retard': 3733, 'compar': 902, 'react': 3594, 'longer': 2652, 'rock': 3793, 'marshal': 2752, 'ohio': 3116, 'cancer': 659, 'patient': 3247, 'comedian': 881, 'steal': 4262, 'zika': 4991, 'virus': 4800, 'tanzania': 4427, 'kurdistan': 2494, 'adam': 46, 'art': 236, 'minut': 2862, 'radio': 3552, 'rob': 3789, 'reiner': 3660, 'color': 873, 'prop': 3484, 'march': 2740, 'su': 4323, 'mn': 2883, 'cocktail': 851, 'concret': 923, 'dmz': 1329, 'nd': 2995, 'clever': 823, 'uncensor': 4672, 'scold': 3913, 'strong': 4310, 'stabl': 4234, 'ford': 1751, 'snub': 4136, 'export': 1589, 'venezuelan': 4770, 'surviv': 4372, 'outreach': 3169, 'rnc': 3786, 'nra': 3068, 'motorcad': 2932, 'unexpect': 4693, 'smile': 4122, 'trail': 4576, 'shape': 4013, 'ginsburg': 1873, 'bbc': 383, 'ton': 4539, 'frontrunn': 1802, 'oklahoma': 3120, 'reduc': 3631, 'charter': 747, 'urban': 4738, 'district': 1319, 'yellen': 4972, 'tough': 4555, 'instead': 2283, 'vigilant': 4789, 'rocket': 3795, 'kabul': 2424, 'steve': 4271, 'stood': 4286, 'desert': 1228, 'ador': 59, 'birthday': 458, 'atheist': 267, 'cpac': 1031, 'defi': 1178, 'point': 3364, 'conceal': 917, 'liter': 2630, 'stephen': 4268, 'merciless': 2815, 'warner': 4838, 'implod': 2220, 'jane': 2359, 'scienc': 3911, 'marawi': 2739, 'battl': 380, 'ugandan': 4658, 'mitch': 2877, 'pig': 3322, 'paint': 3201, 'tantrum': 4426, 'unfit': 4695, 'retreat': 3737, 'prompt': 3482, 'phoenix': 3310, 'postpon': 3401, 'west': 4878, 'gaza': 1847, 'avoid': 296, 'sound': 4170, 'atlant': 270, 'argentin': 217, 'submarin': 4326, 'nigel': 3034, 'evan': 1536, 'round': 3820, 'complet': 908, 'medicar': 2795, 'schedul': 3902, 'scholar': 3905, 'pressur': 3433, 'differ': 1262, 'escal': 1517, 'feud': 1677, 'guinea': 1975, 'kurdish': 2493, 'kirkuk': 2471, 'counter': 1011, 'stab': 4232, 'shelter': 4025, 'credibl': 1048, 'kansa': 2427, 'aclu': 34, 'tweetstorm': 4644, 'humanitarian': 2157, 'career': 675, 'exxon': 1600, 'mobil': 2887, 'port': 3391, 'oversight': 3180, 'klan': 2474, 'alway': 133, 'altern': 132, 'holder': 2109, 'chew': 761, 'natur': 2988, 'certain': 720, 'field': 1681, 'rais': 3559, 'fist': 1712, 'editor': 1422, 'boe': 502, 'empir': 1467, 'pose': 3396, 'unpreced': 4718, 'unveil': 4726, 'guidelin': 1972, 'tuesday': 4626, 'obamatrad': 3088, 'later': 2529, 'weigh': 4869, 'danish': 1119, 'hatch': 2036, 'cleric': 820, 'dissent': 1314, 'stephanopoulo': 4267, 'whistleblow': 4888, 'classifi': 811, 'whistl': 4887, 'trailer': 4577, 'draw': 1368, 'holiday': 2112, 'maintain': 2713, 'censor': 713, 'everyon': 1546, 'premier': 3422, 'abroad': 12, 'understand': 4686, 'muscl': 2956, 'screen': 3926, 'reviv': 3750, 'standard': 4247, 'potus': 3404, 'footag': 1748, 'astonish': 265, 'retweet': 3739, 'demolish': 1201, 'buy': 630, 'victim': 4781, 'scrap': 3924, 'mi': 2825, 'arizona': 222, 'stammer': 4243, 'textbook': 4477, 'exampl': 1557, 'risk': 3781, 'chancellor': 733, 'revis': 3749, 'tourism': 4559, 'shipment': 4033, 'joel': 2392, 'lock': 2641, 'devast': 1246, 'houston': 2143, 'flood': 1733, 'oversea': 3179, 'queen': 3536, 'ceremoni': 719, 'bonus': 519, 'read': 3597, 'jfk': 2382, 'file': 1687, 'everyth': 1547, 'carrier': 682, 'life': 2612, 'scari': 3897, 'temper': 4458, 'dodd': 1336, 'frank': 1782, 'trash': 4589, 'freddi': 1787, 'sum': 4346, 'skip': 4091, 'brief': 573, 'widen': 4897, 'venu': 4771, 'half': 1998, 'itali': 2346, 'slip': 4107, 'showdown': 4048, 'inspir': 2279, 'gag': 1830, 'firearm': 1703, 'maker': 2716, 'withhold': 4923, 'traffic': 4573, 'nuke': 3072, 'proceed': 3463, 'infiltr': 2256, 'system': 4404, 'incom': 2234, 'nod': 3048, 'largest': 2522, 'solar': 4148, 'yell': 4971, 'daddi': 1105, 'fish': 1710, 'bumper': 612, 'sticker': 4276, 'scorch': 3916, 'chao': 737, 'encourag': 1473, 'loui': 2673, 'vicious': 4780, 'pardon': 3221, 'imprison': 2225, 'hariri': 2025, 'brain': 553, 'freez': 1793, 'forward': 1765, 'savag': 3884, 'beaten': 388, 'mob': 2886, 'date': 1125, 'chose': 779, 'julian': 2414, 'assang': 251, 'outsid': 3170, 'san': 3866, 'regain': 3644, 'dedic': 1164, 'yahoo': 4964, 'funer': 1818, 'nigerian': 3037, 'drown': 1381, 'mediterranean': 2797, 'harvard': 2030, 'grad': 1923, 'fakenew': 1615, 'eat': 1414, 'heal': 2048, 'undecid': 4681, 'prof': 3468, 'bait': 325, 'hashtag': 2033, 'memori': 2810, 'ouster': 3160, 'effect': 1426, 'complain': 906, 'spotlight': 4217, 'write': 4952, 'creativ': 1045, 'iranian': 2326, 'cameron': 651, 'prosecutor': 3489, 'internet': 2302, 'boll': 509, 'prayer': 3414, 'belgium': 410, 'commi': 890, 'fantas': 1628, 'commiss': 891, 'educ': 1425, 'failur': 1611, 'est': 1523, 'progress': 3476, 'co': 844, 'un': 4666, 'minor': 2861, 'dictionari': 1259, 'rival': 3782, 'fiorina': 1701, 'santorum': 3875, 'dinesh': 1268, 'souza': 4176, 'gave': 1845, 'correct': 997, 'sexism': 3999, 'grip': 1955, 'phoni': 3312, 'crybabi': 1080, 'pittsburgh': 3333, 'reagan': 3600, 'derang': 1223, 'farmer': 1638, 'properti': 3486, 'folk': 1743, 'riot': 3777, 'dramat': 1366, 'came': 649, 'meant': 2786, 'chuck': 786, 'zealand': 4989, 'three': 4499, 'draft': 1362, 'franken': 1783, 'grope': 1956, 'dumb': 1391, 'dismantl': 1303, 'spread': 4219, 'hitler': 2106, 'paper': 3217, 'spiritu': 4205, 'dick': 1256, 'dyer': 1400, 'la': 2501, 'evacu': 1534, 'highest': 2087, 'bali': 329, 'volcano': 4810, 'proud': 3497, 'hong': 2125, 'kong': 2486, 'briton': 581, 'stress': 4305, 'africa': 79, 'mad': 2699, 'tran': 4580, 'chide': 765, 'leadership': 2561, 'rudi': 3829, 'fulli': 1811, 'hood': 2127, 'music': 2959, 'done': 1347, 'de': 1132, 'blasio': 472, 'nyc': 3079, 'bartiromo': 362, 'podesta': 3361, 'june': 2417, 'viewer': 4788, 'mull': 2949, 'embargo': 1455, 'bankruptci': 345, 'sent': 3973, 'recipi': 3617, 'resolut': 3711, 'almost': 126, 'unanim': 4669, 'grade': 1924, 'ivori': 2351, 'coast': 848, 'tribun': 4603, 'ghana': 1866, 'isol': 2341, 'miracl': 2863, 'fallout': 1619, 'ca': 633, 'soft': 4145, 'screw': 3928, 'arson': 235, 'locker': 2643, 'text': 4476, 'suppos': 4356, 'uranium': 4737, 'celebr': 710, 'enemi': 1478, 'exploit': 1586, 'nevada': 3015, 'upgrad': 4731, 'juncker': 2416, 'annual': 177, 'dozen': 1360, 'ss': 4228, 'feloni': 1667, 'privileg': 3456, 'guarante': 1964, 'takeov': 4418, 'aggress': 86, 'colombian': 872, 'seiz': 3959, 'cocain': 850, 'banana': 339, 'farm': 1637, 'boston': 533, 'globe': 1887, 'conveni': 974, 'fort': 1762, 'lauderdal': 2535, 'april': 210, 'edt': 1424, 'gmt': 1891, 'lunaci': 2686, 'whoopi': 4893, 'incoher': 2233, 'cotton': 1003, 'scientist': 3912, 'gay': 1846, 'fl': 1716, 'elimin': 1446, 'mandat': 2729, 'trader': 4571, 'formal': 1760, 'corey': 991, 'tch': 4440, 'profil': 3472, 'fugit': 1807, 'assail': 250, 'frame': 1777, 'bail': 322, 'serious': 3985, 'sept': 3978, 'buddhist': 600, 'loan': 2636, 'extort': 1594, 'william': 4906, 'warrior': 4841, 'portug': 3395, 'deficit': 1180, 'restaur': 3720, 'kim': 2464, 'miami': 2826, 'hospit': 2135, 'birth': 457, 'idea': 2187, 'analyst': 155, 'stir': 4279, 'pot': 3402, 'favorit': 1649, 'whatev': 4881, 'smooth': 4125, 'present': 3427, 'curt': 1093, 'despic': 1233, 'rap': 3578, 'disastr': 1287, 'hurdl': 2169, 'afraid': 78, 'parenthood': 3223, 'toast': 4524, 'garner': 1840, 'zuma': 4999, 'admin': 53, 'alaska': 107, 'remind': 3677, 'massachusett': 2760, 'initi': 2266, 'nanci': 2976, 'creation': 1043, 'decri': 1163, 'relationship': 3665, 'club': 839, 'prestigi': 3434, 'macedonia': 2695, 'doctor': 1333, 'model': 2891, 'deepen': 1168, 'gaga': 1831, 'surfac': 4362, 'scam': 3892, 'profit': 3473, 'kurd': 2492, 'impos': 2222, 'baghdad': 320, 'goldberg': 1898, 'recal': 3613, 'inappropri': 2228, 'pullout': 3512, 'disrupt': 1313, 'episod': 1505, 'wire': 4915, 'revolut': 3753, 'televis': 4455, 'vanessa': 4762, 'beeley': 396, 'idioci': 2191, 'dialogu': 1253, 'backfir': 311, 'footbal': 1749, 'sinc': 4074, 'pretti': 3436, 'shutdown': 4054, 'amazon': 136, 'secessionist': 3944, 'michel': 2829, 'bachmann': 307, 'confus': 935, 'direct': 1275, 'theori': 4486, 'tank': 4424, 'instant': 2282, 'steyn': 4274, 'hors': 2134, 'bed': 393, 'uzbek': 4751, 'parkinson': 3226, 'diseas': 1298, 'chelsea': 755, 'huh': 2154, 'dig': 1264, 'platform': 3343, 'reinstat': 3661, 'generat': 1852, 'upset': 4736, 'lack': 2506, 'pure': 3520, 'touch': 4554, 'gestur': 1864, 'drag': 1363, 'saint': 3858, 'martin': 2755, 'advoc': 68, 'biker': 445, 'portland': 3392, 'anarchist': 157, 'blown': 492, 'effici': 1427, 'mandalay': 2728, 'bay': 382, 'guard': 1965, 'dine': 1267, 'wednesday': 4865, 'chanc': 732, 'unless': 4709, 'humbl': 2158, 'commentari': 887, 'evas': 1538, 'univ': 4705, 'contact': 960, 'notic': 3064, 'liberti': 2606, 'spark': 4183, 'rogu': 3798, 'treati': 4594, 'predat': 3418, 'uber': 4655, 'driver': 1377, 'consult': 958, 'bob': 499, 'obliter': 3092, 'gutfeld': 1985, 'score': 3917, 'box': 544, 'trap': 4588, 'talli': 4422, 'advic': 64, 'shade': 4005, 'bribe': 569, 'down': 1357, 'hama': 2002, 'pilot': 3324, 'drunk': 1385, 'giggl': 1870, 'clap': 802, 'bullet': 608, 'weird': 4873, 'mccarthi': 2779, 'also': 130, 'separatist': 3977, 'most': 2927, 'winner': 4912, 'unifi': 4699, 'vulgar': 4818, 'bipartisan': 455, 'headquart': 2047, 'rand': 3571, 'hysteria': 2178, 'jake': 2356, 'tapper': 4430, 'snowflak': 4135, 'item': 2349, 'februari': 1657, 'decent': 1154, 'promo': 3480, 'mitt': 2879, 'exact': 1554, 'defund': 1182, 'graduat': 1926, 'loosen': 2658, 'mean': 2785, 'exceed': 1558, 'toddler': 4527, 'ann': 173, 'coulter': 1006, 'vile': 4790, 'semit': 3966, 'incit': 2231, 'subvers': 4332, 'obsess': 3096, 'dakota': 1108, 'pipelin': 3328, 'sarin': 3878, 'niger': 3035, 'panelist': 3212, 'fcc': 1651, 'rollback': 3803, 'jewish': 2381, 'unaccept': 4668, 'restroom': 3724, 'nativ': 2986, 'widow': 4898, 'submit': 4327, 'exam': 1555, 'misconduct': 2864, 'kimmel': 2465, 'biofuel': 454, 'diet': 1261, 'lifelong': 2613, 'shout': 4045, 'qualifi': 3533, 'nobel': 3046, 'prize': 3457, 'loom': 2655, 'abort': 11, 'rakhin': 3561, 'mall': 2722, 'congo': 936, 'embattl': 1458, 'super': 4353, 'riyadh': 3785, 'loyal': 2681, 'takei': 4416, 'hamilton': 2003, 'ifax': 2194, 'downplay': 1359, 'contest': 965, 'collud': 869, 'signatur': 4063, 'weaken': 4857, 'agricultur': 91, 'usda': 4744, 'everywher': 1548, 'blatant': 474, 'hypocrisi': 2175, 'beauti': 389, 'ire': 2329, 'nov': 3065, 'pimp': 3325, 'rescu': 3702, 'cyprus': 1100, 'registr': 3649, 'tokyo': 4532, 'koik': 2485, 'exoner': 1575, 'mississippi': 2870, 'commenc': 885, 'corker': 992, 'discoveri': 1294, 'patrol': 3250, 'oppon': 3136, 'kennedi': 2444, 'cancel': 658, 'lawbreak': 2548, 'spoof': 4214, 'manafort': 2725, 'octob': 3104, 'pollster': 3377, 'barnier': 358, 'stacey': 4235, 'segreg': 3958, 'integr': 2288, 'veil': 4768, 'stewart': 4273, 'montel': 2911, 'nsa': 3069, 'spar': 4182, 'castro': 690, 'histor': 2103, 'yrs': 4987, 'insur': 2286, 'revamp': 3741, 'obstacl': 3097, 'complic': 911, 'cliven': 830, 'older': 3123, 'sleep': 4104, 'philadelphia': 3308, 'coward': 1027, 'unthink': 4724, 'quiet': 3539, 'cowgirl': 1029, 'congresswoman': 942, 'appal': 196, 'tricki': 4606, 'task': 4434, 'fend': 1673, 'hidden': 2083, 'ranch': 3569, 'professor': 3471, 'hostil': 2138, 'ken': 2443, 'plead': 3348, 'theft': 4484, 'donna': 1348, 'cheat': 750, 'ironi': 2334, 'icon': 2184, 'mccarthyism': 2780, 'oct': 3103, 'identifi': 2189, 'sub': 4324, 'homeless': 2118, 'misspel': 2872, 'lepag': 2586, 'main': 2711, 'spit': 4206, 'regular': 3652, 'excit': 1563, 'circuit': 790, 'silver': 4069, 'defeat': 1172, 'symbol': 4398, 'pregnant': 3421, 'kate': 2434, 'pursu': 3524, 'subject': 4325, 'foil': 1742, 'describ': 1226, 'stabil': 4233, 'ramp': 3567, 'consequ': 947, 'mega': 2799, 'flip': 1731, 'fiscal': 1709, 'script': 3929, 'detect': 1241, 'baptist': 348, 'phase': 3307, 'compromis': 913, 'exempt': 1569, 'jesus': 2378, 'counti': 1014, 'chemic': 756, 'tourist': 4560, 'scrub': 3930, 'resurfac': 3728, 'confisc': 932, 'hung': 2162, 'haiti': 1995, 'sad': 3850, 'retract': 3736, 'daniel': 1118, 'anyth': 188, 'pakistani': 3203, 'seven': 3996, 'slaughter': 4100, 'quick': 3538, 'process': 3464, 'teeth': 4452, 'prefer': 3420, 'lash': 2525, 'alma': 125, 'mater': 2766, 'serbian': 3982, 'earn': 1404, 'bilater': 446, 'glove': 1889, 'promot': 3481, 'slay': 4103, 'capabl': 664, 'true': 4616, 'orlando': 3152, 'tune': 4629, 'divers': 1323, 'deliber': 1191, 'taiwanes': 4413, 'perman': 3291, 'cap': 663, 'poroshenko': 3390, 'belief': 411, 'bosnian': 531, 'boycot': 546, 'lefti': 2575, 'hissi': 2102, 'evict': 1549, 'corp': 995, 'wilbur': 4901, 'bacon': 315, 'neil': 3004, 'peninsula': 3277, 'bone': 516, 'dna': 1330, 'obstruct': 3098, 'subsidi': 4329, 'profound': 3474, 'kathi': 2435, 'griffin': 1952, 'behead': 405, 'stunt': 4320, 'revolutionari': 3754, 'mislead': 2866, 'slaveri': 4102, 'indoctrin': 2247, 'marco': 2741, 'reelect': 3634, 'norway': 3060, 'consent': 946, 'hawaii': 2042, 'enact': 1472, 'surrog': 4368, 'malaysian': 2718, 'va': 4752, 'tim': 4516, 'kain': 2426, 'track': 4569, 'xinhua': 4962, 'cave': 704, 'dinner': 1270, 'estat': 1525, 'resist': 3710, 'stall': 4242, 'spurn': 4223, 'addit': 49, 'aircraft': 97, 'santa': 3874, 'uae': 4654, 'magnitud': 2708, 'adel': 51, 'seoul': 3975, 'unbeliev': 4671, 'raqqa': 3583, 'hq': 2146, 'pedophilia': 3269, 'kevin': 2452, 'reliev': 3669, 'wari': 4835, 'matt': 2769, 'lauer': 2536, 'kosovo': 2489, 'inquiri': 2273, 'flame': 1719, 'interpol': 2303, 'newli': 3020, 'sharif': 4016, 'estim': 1526, 'maduro': 2703, 'delus': 1195, 'minimum': 2856, 'gas': 1841, 'pizza': 3335, 'jack': 2353, 'allianc': 123, 'ransom': 3576, 'origin': 3151, 'libel': 2601, 'flop': 1735, 'dictat': 1257, 'founder': 1771, 'rapper': 3582, 'treat': 4593, 'pet': 3301, 'horrifi': 2132, 'famous': 1625, 'fargo': 1636, 'explan': 1584, 'coordin': 987, 'sdf': 3932, 'allen': 121, 'censorship': 714, 'nake': 2973, 'barbra': 354, 'streisand': 4302, 'juri': 2419, 'branch': 554, 'hun': 2160, 'sen': 3967, 'tongu': 4541, 'tomi': 4537, 'lahren': 2511, 'sore': 4165, 'gather': 1844, 'togeth': 4529, 'disclos': 1291, 'nonsens': 3053, 'damon': 1114, 'wide': 4896, 'summon': 4350, 'ucla': 4656, 'author': 291, 'lunat': 2687, 'thaad': 4479, 'cook': 984, 'revolt': 3752, 'vacat': 4754, 'shrink': 4051, 'drain': 1364, 'presenc': 3426, 'temer': 4457, 'plummet': 3355, 'schwarzenegg': 3910, 'apprentic': 206, 'narrow': 2980, 'nine': 3042, 'disturb': 1320, 'yes': 4975, 'pace': 3192, 'renew': 3681, 'establish': 1524, 'advisori': 67, 'carter': 684, 'wash': 4843, 'volatil': 4808, 'jong': 2402, 'destruct': 1237, 'whole': 4891, 'mulvaney': 2952, 'consum': 959, 'bureau': 617, 'mika': 2841, 'brzezinski': 597, 'anymor': 186, 'channel': 735, 'politico': 3375, 'monster': 2909, 'stronghold': 4312, 'kenyan': 2447, 'tearga': 4446, 'slum': 4113, 'reopen': 3683, 'idiot': 2192, 'militia': 2846, 'fled': 1726, 'escap': 1518, 'unravel': 4719, 'jihadi': 2384, 'papua': 3218, 'previous': 3439, 'undisclos': 4688, 'uncomfort': 4678, 'aliv': 116, 'firefight': 1705, 'uncertain': 4673, 'missouri': 2871, 'dumbest': 1392, 'unarm': 4670, 'capitol': 667, 'seeker': 3954, 'disciplin': 1290, 'sisi': 4080, 'ambul': 140, 'icahn': 2180, 'ron': 3808, 'standoff': 4248, 'hammond': 2005, 'duti': 1399, 'butt': 629, 'landslid': 2517, 'sebastian': 3941, 'gorka': 1911, 'bit': 461, 'narrat': 2979, 'tore': 4549, 'horribl': 2130, 'coverag': 1024, 'myth': 2968, 'colorado': 874, 'struck': 4313, 'hawaiian': 2043, 'classmat': 813, 'usual': 4747, 'uncl': 4676, 'equip': 1508, 'triumph': 4610, 'doom': 1351, 'influenti': 2258, 'smack': 4116, 'oscar': 3155, 'baker': 326, 'cake': 642, 'wed': 4864, 'tonight': 4543, 'moder': 2892, 'defer': 1177, 'waterboard': 4850, 'smart': 4119, 'repeat': 3689, 'mosul': 2928, 'greec': 1945, 'laid': 2512, 'bare': 356, 'angola': 168, 'suu': 4381, 'kyi': 2499, 'bibl': 437, 'photograph': 3314, 'panick': 3214, 'ran': 3568, 'frustrat': 1804, 'valeri': 4757, 'jarrett': 2364, 'wrestl': 4951, 'match': 2764, 'palestin': 3206, 'greatest': 1944, 'briberi': 570, 'oppress': 3140, 'berlin': 422, 'scarborough': 3895, 'given': 1880, 'yale': 4965, 'onto': 3129, 'tuition': 4627, 'larg': 2521, 'whoop': 4892, 'pain': 3200, 'treason': 4591, 'wisconsin': 4917, 'breitbart': 565, 'texan': 4475, 'enrich': 1488, 'satan': 3880, 'grifter': 1953, 'devil': 1249, 'store': 4289, 'magic': 2707, 'conyer': 983, 'roger': 3797, 'associ': 261, 'bridgeg': 572, 'trumper': 4620, 'drink': 1374, 'cool': 985, 'lean': 2565, 'toward': 4562, 'vaccin': 4755, 'throat': 4502, 'meryl': 2817, 'streep': 4300, 'tweak': 4642, 'flee': 1727, 'along': 128, 'stronger': 4311, 'competit': 905, 'ultra': 4665, 'shatter': 4019, 'golden': 1899, 'nba': 2992, 'titl': 4523, 'malaysia': 2717, 'protection': 3493, 'smoke': 4124, 'ground': 1958, 'museum': 2957, 'space': 4179, 'migrat': 2840, 'affili': 72, 'interf': 2296, 'album': 108, 'ego': 1430, 'collis': 868, 'funniest': 1821, 'rang': 3573, 'map': 2737, 'self': 3962, 'magazin': 2706, 'gitmo': 1877, 'https': 2147, 'com': 876, 'whose': 4894, 'realiz': 3604, 'valley': 4758, 'heckler': 2064, 'choke': 776, 'overtim': 3182, 'breach': 562, 'outcri': 3164, 'lag': 2509, 'swipe': 4394, 'acceler': 20, 'unmask': 4714, 'iowa': 2321, 'lavrov': 2546, 'stick': 4275, 'elder': 1437, 'asid': 245, 'grill': 1954, 'rachel': 3546, 'maddow': 2700, 'starv': 4253, 'attract': 279, 'bigger': 441, 'rain': 3557, 'segment': 3957, 'satellit': 3881, 'demon': 1202, 'dissid': 1315, 'revok': 3751, 'licens': 2610, 'unhing': 4698, 'languag': 2518, 'determin': 1243, 'nois': 3049, 'republ': 3696, 'antitrust': 185, 'reshuffl': 3707, 'entitl': 1495, 'squad': 4224, 'reluct': 3672, 'soviet': 4178, 'afd': 69, 'examin': 1556, 'assembl': 254, 'product': 3467, 'oprah': 3141, 'buddi': 601, 'ballist': 332, 'tire': 4522, 'lectur': 2571, 'gabriel': 1828, 'lavar': 2543, 'surgeri': 4365, 'dire': 1274, 'dodger': 1338, 'compliment': 912, 'emir': 1463, 'bar': 349, 'particip': 3234, 'shrug': 4052, 'arrog': 233, 'intimid': 2309, 'swear': 4386, 'globalist': 1886, 'farag': 1632, 'shower': 4049, 'ukrainian': 4663, 'weather': 4862, 'improv': 2227, 'clock': 831, 'tick': 4508, 'ssi': 4230, 'jerri': 2374, 'leaker': 2564, 'rough': 3818, 'bless': 477, 'permiss': 3292, 'hug': 2152, 'amtrak': 151, 'nevertrump': 3017, 'reinc': 3659, 'kati': 2436, 'fenc': 1672, 'ceil': 709, 'mess': 2818, 'tsa': 4623, 'cemeteri': 712, 'seem': 3955, 'hole': 2110, 'redskin': 3630, 'burqa': 621, 'bloodsh': 489, 'mention': 2814, 'bitter': 464, 'barzani': 363, 'luther': 2691, 'yike': 4977, 'brotherhood': 591, 'olymp': 3125, 'rio': 3776, 'preacher': 3417, 'narcissist': 2978, 'nugent': 3071, 'opportun': 3137, 'knee': 2475, 'syndrom': 4401, 'boko': 507, 'haram': 2019, 'legendari': 2581, 'candidaci': 661, 'credenti': 1047, 'finger': 1697, 'privaci': 3454, 'pres': 3425, 'convict': 978, 'stone': 4285, 'muhammad': 2948, 'kentucki': 2445, 'clerk': 821, 'piec': 3320, 'millionair': 2850, 'carl': 677, 'fascist': 1639, 'icbm': 2181, 'outbreak': 3162, 'infect': 2254, 'lopez': 2660, 'safer': 3853, 'chant': 736, 'level': 2593, 'bannon': 347, 'shi': 4029, 'preach': 3416, 'driven': 1376, 'blue': 493, 'chosen': 780, 'provinc': 3501, 'maoist': 2736, 'wave': 4854, 'parad': 3219, 'defect': 1173, 'dream': 1369, 'appli': 202, 'status': 4260, 'prioriti': 3452, 'european': 1533, 'difficult': 1263, 'offend': 3108, 'howard': 2145, 'stern': 4270, 'geraldo': 1860, 'strategi': 4297, 'navalni': 2989, 'easter': 1412, 'egg': 1429, 'dress': 1371, 'infam': 2253, 'denier': 1207, 'chill': 771, 'mafia': 2704, 'counterpart': 1012, 'ed': 1419, 'saturday': 3882, 'deleg': 1189, 'genocid': 1856, 'disagre': 1281, 'intend': 2291, 'cough': 1004, 'torch': 4548, 'orang': 3146, 'backer': 310, 'obscen': 3093, 'deep': 1167, 'brennan': 566, 'aspen': 247, 'institut': 2284, 'fault': 1647, 'journal': 2405, 'hatr': 2039, 'breakthrough': 564, 'kurz': 2495, 'caribbean': 676, 'bowl': 543, 'rome': 3806, 'pharma': 3306, 'extens': 1593, 'tower': 4563, 'pr': 3410, 'malta': 2723, 'yemeni': 4974, 'sanaa': 3867, 'scaramucci': 3894, 'figur': 1686, 'nixon': 3043, 'persist': 3296, 'freak': 1786, 'beer': 397, 'typhoon': 4651, 'le': 2558, 'pen': 3272, 'lemon': 2585, 'wheel': 4882, 'hurl': 2170, 'lavish': 2544, 'foul': 1768, 'mouth': 2935, 'ir': 2324, 'august': 285, 'affleck': 74, 'fals': 1620, 'nordstrom': 3055, 'load': 2635, 'tarmac': 4433, 'lame': 2514, 'regard': 3645, 'clueless': 841, 'compli': 910, 'immin': 2211, 'retail': 3729, 'obamaphon': 3087, 'nypd': 3081, 'racial': 3547, 'traffick': 4574, 'dicaprio': 1255, 'mile': 2843, 'purpl': 3522, 'horrif': 2131, 'francisco': 1781, 'scout': 3922, 'keyston': 2454, 'xl': 4963, 'durbin': 1396, 'yorker': 4981, 'cked': 798, 'livid': 2633, 'kiev': 2461, 'cozi': 1030, 'repress': 3694, 'rd': 3592, 'gross': 1957, 'hint': 2096, 'overwhelm': 3184, 'chart': 746, 'chase': 748, 'neighborhood': 3003, 'irregular': 2335, 'pier': 3321, 'morgan': 2919, 'abadi': 0, 'interim': 2299, 'built': 606, 'creationist': 1044, 'jihadist': 2385, 'martha': 2753, 'vineyard': 4793, 'alan': 105, 'dershowitz': 1224, 'batteri': 379, 'jab': 2352, 'laughabl': 2538, 'took': 4544, 'cbs': 707, 'chip': 774, 'fishermen': 1711, 'contract': 968, 'maga': 2705, 'smash': 4120, 'supremaci': 4359, 'priebus': 3444, 'piss': 3330, 'bolster': 510, 'defector': 1174, 'afghan': 76, 'unclear': 4677, 'imagin': 2206, 'improp': 2226, 'summer': 4348, 'molest': 2897, 'defam': 1171, 'fare': 1634, 'coffin': 854, 'disarm': 1284, 'overrid': 3177, 'interior': 2300, 'monitor': 2906, 'handcuff': 2008, 'dr': 1361, 'rent': 3682, 'whini': 4885, 'spicer': 4199, 'counterterror': 1013, 'harder': 2023, 'hispan': 2101, 'skewer': 4088, 'ticket': 4509, 'iceland': 2183, 'seattl': 3940, 'pride': 3443, 'meal': 2784, 'rest': 3718, 'odinga': 3107, 'weak': 4856, 'scenario': 3899, 'jan': 2358, 'gunman': 1980, 'turnout': 4639, 'slight': 4106, 'lower': 2679, 'opinion': 3134, 'warship': 4842, 'crucial': 1072, 'nj': 3044, 'resourc': 3714, 'gerrymand': 1863, 'abduct': 4, 'pin': 3326, 'imposs': 2223, 'commerci': 889, 'perez': 3286, 'kasperski': 2433, 'lab': 2502, 'moron': 2923, 'gorilla': 1910, 'boot': 525, 'diplomaci': 1272, 'unsaf': 4722, 'earth': 1405, 'gen': 1849, 'bern': 424, 'nh': 3028, 'promin': 3478, 'bristol': 577, 'custodi': 1095, 'ghetto': 1867, 'kind': 2466, 'legislatur': 2583, 'anim': 171, 'rid': 3766, 'lotteri': 2669, 'glass': 1882, 'easi': 1408, 'bunker': 615, 'spring': 4220, 'ptsd': 3506, 'cftc': 723, 'robert': 3790, 'depict': 1214, 'heartless': 2058, 'mistrial': 2876, 'server': 3988, 'fallon': 1618, 'greet': 1949, 'fought': 1767, 'repar': 3686, 'ga': 1827, 'ownership': 3188, 'barri': 359, 'garland': 1839, 'blockad': 485, 'employ': 1468, 'heard': 2054, 'charlott': 744, 'mow': 2939, 'lawn': 2551, 'decad': 1150, 'consider': 950, 'pena': 3273, 'nieto': 3033, 'heartbreak': 2056, 'sworn': 4397, 'slovenia': 4111, 'academi': 19, 'dean': 1140, 'window': 4909, 'firework': 1706, 'blaze': 475, 'ravag': 3590, 'villag': 4791, 'error': 1515, 'bradi': 551, 'advanc': 61, 'soccer': 4139, 'kaepernick': 2425, 'squar': 4225, 'parri': 3230, 'premium': 3423, 'slide': 4105, 'tradit': 4572, 'environment': 1498, 'worldwid': 4938, 'gunpoint': 1982, 'nam': 2974, 'heritag': 2077, 'septemb': 3979, 'swift': 4391, 'silicon': 4067, 'root': 3812, 'secess': 3943, 'fresh': 1795, 'lewi': 2596, 'cruis': 1074, 'invad': 2312, 'restraint': 3722, 'sterl': 4269, 'hunger': 2165, 'indic': 2243, 'illegitim': 2201, 'obey': 3089, 'advantag': 62, 'worship': 4942, 'shameless': 4012, 'period': 3289, 'urin': 4741, 'suck': 4337, 'raul': 3589, 'gari': 1838, 'baio': 324, 'emiss': 1464, 'fame': 1622, 'worsen': 4941, 'injuri': 2269, 'uphil': 4732, 'contracept': 967, 'affirm': 73, 'dairi': 1107, 'nusra': 3076, 'aleppo': 110, 'nurs': 3075, 'mormon': 2920, 'surround': 4369, 'taco': 4409, 'baffl': 318, 'ruin': 3830, 'bye': 632, 'lewd': 2595, 'nc': 2994, 'illustr': 2204, 'recoveri': 3626, 'affair': 70, 'sympath': 4399, 'uphold': 4733, 'england': 1484, 'thwart': 4507, 'scotland': 3918, 'joseph': 2404, 'watson': 4852, 'skin': 4090, 'shoe': 4037, 'bond': 515, 'switch': 4396, 'intent': 2293, 'yank': 4966, 'feed': 1661, 'mourn': 2934, 'ambit': 138, 'tabl': 4406, 'banner': 346, 'norwegian': 3061, 'strength': 4303, 'heel': 2066, 'jess': 2377, 'mladic': 2881, 'verdict': 4772, 'cair': 639, 'juror': 2420, 'el': 1435, 'guatemala': 1966, 'bori': 528, 'drugmak': 1384, 'defiant': 1179, 'cloth': 836, 'ditch': 1321, 'reveng': 3744, 'finish': 1699, 'basic': 369, 'watter': 4853, 'overturn': 3183, 'absurd': 15, 'booz': 526, 'quarterback': 3535, 'crop': 1066, 'flaw': 1725, 'alt': 131, 'mix': 2880, 'river': 3783, 'steven': 4272, 'belarus': 408, 'exec': 1567, 'motiv': 2931, 'plagiar': 3337, 'specul': 4191, 'outcom': 3163, 'pivot': 3334, 'legend': 2580, 'genius': 1855, 'qb': 3531, 'coach': 845, 'grab': 1921, 'spray': 4218, 'recov': 3625, 'stagger': 4240, 'bridg': 571, 'oblig': 3091, 'loss': 2666, 'mnangagwa': 2884, 'rosi': 3815, 'donnel': 1349, 'andrea': 161, 'mitchel': 2878, 'selfi': 3963, 'khamenei': 2455, 'earthquak': 1406, 'boast': 497, 'hub': 2148, 'fashion': 1640, 'cairo': 640, 'kept': 2449, 'gulen': 1976, 'beef': 395, 'scale': 3889, 'verifi': 4773, 'seth': 3993, 'shepard': 4027, 'reput': 3698, 'heavili': 2061, 'tout': 4561, 'normal': 3056, 'backlash': 313, 'rural': 3837, 'forum': 1764, 'quo': 3541, 'desir': 1231, 'grassroot': 1939, 'stumbl': 4318, 'expel': 1579, 'baltic': 335, 'sky': 4094, 'bravo': 558, 'seri': 3983, 'doll': 1341, 'populist': 3387, 'calm': 645, 'compet': 904, 'rex': 3756, 'enrol': 1489, 'spell': 4194, 'spokeswoman': 4212, 'andrew': 162, 'occupi': 3102, 'tini': 4519, 'snyder': 4137, 'mode': 2890, 'mogadishu': 2895, 'beach': 384, 'grasp': 1937, 'quarter': 3534, 'pundit': 3515, 'setback': 3992, 'toni': 4542, 'heckl': 2063, 'transport': 4587, 'neocon': 3006, 'tanker': 4425, 'los': 2663, 'angel': 163, 'locat': 2640, 'batsh': 377, 'beret': 420, 'discharg': 1289, 'spin': 4201, 'plug': 3354, 'devic': 1248, 'apec': 193, 'invas': 2313, 'convers': 976, 'explor': 1587, 'necessari': 2997, 'documentari': 1335, 'decre': 1161, 'rift': 3770, 'stuff': 4317, 'analysi': 154, 'epidem': 1503, 'ramaphosa': 3565, 'epipen': 1504, 'inconveni': 2236, 'amaq': 134, 'opioid': 3135, 'griev': 1951, 'fda': 1652, 'stretch': 4306, 'complex': 909, 'float': 1732, 'charl': 741, 'thrill': 4501, 'cartoon': 685, 'ail': 94, 'deem': 1166, 'creep': 1051, 'bahrain': 321, 'ite': 2348, 'selfish': 3964, 'grammi': 1929, 'bharara': 435, 'individu': 2246, 'mccabe': 2777, 'convert': 977, 'lifetim': 2614, 'preserv': 3428, 'waiv': 4821, 'pornographi': 3389, 'mysteri': 2967, 'rein': 3658, 'jay': 2366, 'waterg': 4851, 'nightclub': 3039, 'app': 195, 'flap': 1720, 'egyptian': 1432, 'simpl': 4071, 'shove': 4046, 'mideast': 2836, 'ash': 241, 'courag': 1018, 'clown': 838, 'jennif': 2371, 'sweet': 4390, 'trace': 4568, 'insurg': 2287, 'holland': 2113, 'rumor': 3833, 'mansion': 2734, 'plea': 3347, 'harvest': 2031, 'fewer': 1678, 'conced': 918, 'tight': 4511, 'ukip': 4661, 'vision': 4802, 'barrier': 360, 'bottl': 537, 'laud': 2534, 'solv': 4154, 'latin': 2531, 'bewar': 432, 'planet': 3340, 'provok': 3504, 'adjust': 52, 'barb': 351, 'landmark': 2516, 'clayton': 815, 'allahu': 118, 'akbar': 102, 'extremist': 1599, 'cheap': 749, 'stole': 4282, 'aw': 297, 'az': 305, 'filmmak': 1691, 'protectionist': 3494, 'auction': 280, 'ii': 2197, 'latina': 2532, 'kuczynski': 2491, 'unsecur': 4723, 'blister': 480, 'everyday': 1545, 'granni': 1934, 'champion': 731, 'grave': 1940, 'justifi': 2422, 'anthoni': 182, 'kneeler': 2477, 'archiv': 214, 'transpar': 4586, 'garden': 1837, 'ha': 1988, 'todd': 4526, 'truli': 4617, 'buzzfe': 631, 'annihil': 174, 'woo': 4931, 'caution': 702, 'abil': 9, 'pc': 3263, 'tyranni': 4652, 'cure': 1089, 'scrambl': 3923, 'twist': 4646, 'trillion': 4608, 'deir': 1187, 'zor': 4997, 'iaea': 2179, 'restructur': 3725, 'ky': 2498, 'blank': 471, 'hag': 1992, 'twice': 4645, 'runner': 3835, 'flow': 1737, 'salari': 3859, 'unemploy': 4692, 'exist': 1572, 'asham': 242, 'matthew': 2771, 'wrench': 4950, 'disarray': 1285, 'reflect': 3638, 'glenn': 1883, 'beck': 391, 'karl': 2430, 'rove': 3822, 'deadlin': 1134, 'nice': 3030, 'lasvega': 2527, 'bloomberg': 490, 'opt': 3142, 'appl': 200, 'dealt': 1139, 'dam': 1110, 'sidelin': 4058, 'payback': 3257, 'spectacular': 4190, 'wealth': 4858, 'climb': 826, 'written': 4954, 'fate': 1645, 'khan': 2456, 'content': 964, 'pitch': 3332, 'zimbabwean': 4993, 'leg': 2577, 'batter': 378, 'revenu': 3745, 'argu': 219, 'guilt': 1973, 'yearbook': 4970, 'select': 3961, 'fdp': 1653, 'schultz': 3907, 'assert': 255, 'fell': 1664, 'aviat': 295, 'evangel': 1537, 'sam': 3864, 'observatori': 3095, 'destabil': 1235, 'ear': 1402, 'huckabe': 2149, 'hoax': 2107, 'cornyn': 994, 'atlanta': 271, 'fragil': 1776, 'creditor': 1050, 'fantast': 1630, 'fidel': 1680, 'moodi': 2915, 'academ': 18, 'cavuto': 705, 'conclus': 922, 'marri': 2749, 'ellison': 1450, 'architect': 213, 'upcom': 4729, 'corner': 993, 'addict': 48, 'crap': 1036, 'inequ': 2251, 'pant': 3215, 'suspens': 4377, 'tumbl': 4628, 'shocker': 4036, 'visitor': 4804, 'drastic': 1367, 'pruitt': 3505, 'parliamentari': 3228, 'cell': 711, 'brazilian': 561, 'cfpb': 722, 'podium': 3362, 'lord': 2661, 'deblasio': 1145, 'pour': 3406, 'encrypt': 1474, 'mar': 2738, 'lago': 2510, 'expens': 1580, 'rabid': 3544, 'forgot': 1757, 'interven': 2306, 'ronald': 3809, 'tribal': 4602, 'linger': 2624, 'sext': 4001, 'definit': 1181, 'intoler': 2310, 'heap': 2052, 'batman': 375, 'debbi': 1144, 'wasserman': 4845, 'comfort': 883, 'duck': 1387, 'dynasti': 1401, 'robertson': 3791, 'keen': 2438, 'current': 1091, 'princip': 3449, 'ali': 113, 'guru': 1983, 'sunni': 4352, 'investor': 2317, 'odebrecht': 3106, 'milwauke': 2852, 'clark': 806, 'cage': 637, 'critiqu': 1061, 'harriet': 2028, 'tubman': 4624, 'bruce': 594, 'springsteen': 4221, 'eviscer': 1552, 'berlusconi': 423, 'capitalist': 666, 'iron': 2333, 'tighter': 4513, 'boil': 505, 'youth': 4983, 'pat': 3244, 'felon': 1666, 'sat': 3879, 'edit': 1421, 'solidar': 4152, 'romania': 3804, 'assimil': 259, 'dare': 1120, 'noah': 3045, 'houthi': 2144, 'bold': 508, 'becam': 390, 'urgent': 4740, 'thrown': 4504, 'ifx': 2195, 'sucker': 4338, 'simpli': 4072, 'lucki': 2684, 'fat': 1642, 'sometim': 4161, 'terribl': 4466, 'yuge': 4988, 'juan': 2409, 'comrad': 915, 'casino': 688, 'utah': 4748, 'monument': 2913, 'crookedhillari': 1065, 'pend': 3276, 'suburb': 4331, 'caesar': 636, 'filibust': 1688, 'wood': 4932, 'bono': 518, 'protestor': 3496, 'recommend': 3621, 'sinai': 4073, 'slur': 4114, 'await': 298, 'partial': 3233, 'passion': 3240, 'mali': 2720, 'knife': 2479, 'northeast': 3058, 'mandatori': 2730, 'greek': 1947, 'indigen': 2245, 'crosstalk': 1068, 'lake': 2513, 'up': 4727, 'profan': 3469, 'toilet': 4531, 'wipe': 4914, 'anadolu': 152, 'saleh': 3861, 'commut': 900, 'buffett': 603, 'tamper': 4423, 'luxuri': 2692, 'minion': 2857, 'pollut': 3378, 'contractor': 969, 'boycottnfl': 548, 'bite': 463, 'dual': 1386, 'descript': 1227, 'subway': 4333, 'dodg': 1337, 'charleston': 742, 'craze': 1038, 'slovakia': 4110, 'medicin': 2796, 'repatri': 3687, 'meyer': 2824, 'carpet': 680, 'abid': 8, 'influx': 2259, 'plow': 3353, 'katrina': 2437, 'unlock': 4713, 'iphon': 2322, 'unusu': 4725, 'descend': 1225, 'anarchi': 156, 'robot': 3792, 'buck': 599, 'bankrupt': 344, 'underway': 4687, 'cambodian': 648, 'checkpoint': 752, 'museveni': 2958, 'cameroon': 652, 'anglophon': 167, 'lockdown': 2642, 'ident': 2188, 'winger': 4911, 'tone': 4540, 'deaf': 1136, 'clue': 840, 'flash': 1722, 'thanksgiv': 4483, 'inevit': 2252, 'anc': 158, 'successor': 4336, 'fabric': 1602, 'mistress': 2875, 'bloc': 483, 'boyfriend': 549, 'sort': 4168, 'tea': 4441, 'barbar': 352, 'warhead': 4834, 'legitim': 2584, 'bronx': 589, 'backdrop': 309, 'similar': 4070, 'telecom': 4454, 'statist': 4258, 'season': 3938, 'poem': 3363, 'sacr': 3847, 'harsh': 2029, 'arpaio': 229, 'recess': 3616, 'math': 2768, 'rage': 3554, 'bin': 453, 'laden': 2507, 'bodyguard': 501, 'rt': 3826, 'lobbyist': 2638, 'constitu': 954, 'countdown': 1010, 'lt': 2683, 'shaffer': 4008, 'handler': 2011, 'bag': 319, 'payout': 3261, 'degre': 1186, 'marxist': 2756, 'undergo': 4683, 'displac': 1307, 'berat': 419, 'levin': 2594, 'iii': 2198, 'manchest': 2727, 'extradit': 1596, 'arsenal': 234, 'morocco': 2922, 'rail': 3556, 'persecut': 3295, 'basi': 368, 'stake': 4241, 'procedur': 3462, 'lawrenc': 2552, 'pave': 3255, 'bounc': 540, 'drove': 1380, 'loot': 2659, 'demor': 1204, 'unabl': 4667, 'sieg': 4059, 'ankara': 172, 'reset': 3705, 'tale': 4419, 'anyway': 189, 'roof': 3810, 'jerk': 2373, 'clinic': 827, 'con': 916, 'buhari': 604, 'surrend': 4367, 'marseill': 2751, 'deliveri': 1193, 'uproar': 4735, 'pompeo': 3379, 'asst': 262, 'dear': 1141, 'baton': 376, 'roug': 3817, 'enabl': 1471, 'franci': 1780, 'elementari': 1442, 'experi': 1581, 'unrest': 4721, 'audit': 283, 'wrap': 4948, 'zimmerman': 4994, 'grandchildren': 1931, 'chess': 759, 'falter': 1621, 'materi': 2767, 'childish': 768, 'editori': 1423, 'mylan': 2966, 'denial': 1206, 'tougher': 4556, 'forecast': 1752, 'volcan': 4809, 'spiral': 4203, 'wive': 4926, 'lax': 2555, 'briefli': 574, 'rajoy': 3560, 'fy': 1826, 'regulatori': 3653, 'gm': 1890, 'allegi': 120, 'dealer': 1138, 'framework': 1778, 'rapid': 3580, 'eln': 1451, 'per': 3284, 'athen': 268, 'irrelev': 2336, 'clip': 829, 'patton': 3252, 'oswalt': 3156, 'aug': 284, 'richard': 3763, 'saakashvili': 3843, 'frack': 1775, 'trevor': 4598, 'genit': 1854, 'mutil': 2963, 'kindergarten': 2467, 'cheney': 757, 'insist': 2276, 'provis': 3502, 'quota': 3543, 'logic': 2646, 'ramadan': 3564, 'hail': 1993, 'inspector': 2278, 'disregard': 1311, 'assign': 258, 'angela': 164, 'radar': 3550, 'mutual': 2964, 'endang': 1476, 'decreas': 1162, 'repli': 3691, 'skirt': 4092, 'gruesom': 1962, 'proclaim': 3465, 'intercept': 2294, 'pack': 3194, 'enrag': 1487, 'righteous': 3773, 'niec': 3032, 'sovereignti': 4177, 'height': 2067, 'khizr': 2457, 'rebellion': 3609, 'couric': 1019, 'skeptic': 4087, 'rethink': 3734, 'meat': 2788, 'echo': 1415, 'purchas': 3519, 'detaine': 1240, 'sand': 3870, 'tool': 4545, 'factor': 1608, 'ferri': 1675, 'crunch': 1076, 'finland': 1700, 'shield': 4030, 'virgin': 4798, 'halloween': 2000, 'hijab': 2090, 'sector': 3950, 'unfair': 4694, 'gunfir': 1979, 'oxford': 3189, 'begun': 400, 'homophob': 2120, 'exil': 1571, 'restart': 3719, 'appropri': 208, 'convuls': 981, 'duel': 1389, 'swanki': 4383, 'gym': 1987, 'exodus': 1574, 'unhcr': 4697, 'afford': 75, 'technolog': 4448, 'personnel': 3298, 'disqualifi': 1310, 'barron': 361, 'cohen': 855, 'infidel': 2255, 'shakedown': 4010, 'soil': 4147, 'salut': 3863, 'govt': 1918, 'advertis': 63, 'grandstand': 1933, 'stoke': 4281, 'guid': 1971, 'pleas': 3349, 'accur': 29, 'nicknam': 3031, 'perjuri': 3290, 'consensus': 945, 'portray': 3394, 'util': 4749, 'copi': 989, 'highway': 2089, 'tunisia': 4630, 'gangsta': 1835, 'undocu': 4690, 'cloud': 837, 'asean': 240, 'lit': 2629, 'aoun': 190, 'interrupt': 2305, 'torn': 4550, 'snowden': 4134, 'louie': 2674, 'gohmert': 1896, 'gaff': 1829, 'bro': 582, 'ssed': 4229, 'attitud': 277, 'pit': 3331, 'behalf': 401, 'inject': 2267, 'reconsid': 3622, 'pbs': 3262, 'milk': 2847, 'flake': 1718, 'fmr': 1739, 'classi': 809, 'warfar': 4833, 'elbow': 1436, 'hiroshima': 2100, 'evad': 1535, 'ultim': 4664, 'roast': 3788, 'outgo': 3165, 'vault': 4765, 'unpaid': 4715, 'servant': 3987, 'charact': 738, 'grace': 1922, 'jeopardi': 2372, 'rout': 3821, 'justin': 2423, 'handel': 2009, 'renegoti': 3680, 'broken': 587, 'pa': 3190, 'tass': 4435, 'hardlin': 2024, 'log': 2645, 'pillow': 3323, 'circl': 789, 'catastroph': 695, 'libertarian': 2605, 'hid': 2082, 'tirad': 4521, 'tomorrow': 4538, 'sc': 3888, 'embolden': 1459, 'weed': 4866, 'turk': 4634, 'congressmen': 941, 'glitch': 1884, 'safeguard': 3852, 'oval': 3173, 'mcdonald': 2782, 'tariff': 4432, 'categori': 697, 'nhc': 3029, 'forgiv': 1756, 'sharp': 4017, 'invers': 2314, 'rhode': 3758, 'arnold': 227, 'curs': 1092, 'elijah': 1445, 'cum': 1085, 'menendez': 2812, 'tycoon': 4650, 'squirm': 4226, 'plate': 3342, 'rivera': 3784, 'coffe': 853, 'cheerlead': 754, 'snag': 4128, 'pie': 3319, 'entertain': 1493, 'pirro': 3329, 'cahoot': 638, 'columnist': 875, 'booker': 522, 'johnni': 2394, 'depp': 1219, 'lavoy': 2545, 'finicum': 1698, 'grid': 1950, 'rattl': 3588, 'secreci': 3946, 'dave': 1127, 'brat': 556, 'memoir': 2809, 'sniper': 4131, 'haunt': 2040, 'junta': 2418, 'togo': 4530, 'margin': 2742, 'summari': 4347, 'everybodi': 1544, 'mockeri': 2889, 'municip': 2953, 'bulgaria': 607, 'reassur': 3607, 'communism': 897, 'craft': 1034, 'soften': 4146, 'portrait': 3393, 'refineri': 3637, 'section': 3949, 'broker': 588, 'prior': 3451, 'rebuff': 3610, 'christ': 782, 'overcom': 3175, 'sight': 4060, 'gird': 1874, 'pepper': 3283, 'steinl': 4265, 'craziest': 1040, 'mayb': 2775, 'crise': 1058, 'feinstein': 1663, 'till': 4514, 'spew': 4197, 'rude': 3828, 'barbara': 353, 'correspond': 998, 'billi': 450, 'airstrik': 100, 'shabaab': 4004, 'greater': 1943, 'deduct': 1165, 'withheld': 4922, 'hometown': 2119, 'disband': 1288, 'unlaw': 4707, 'soar': 4138, 'smug': 4126, 'creator': 1046, 'skit': 4093, 'istanbul': 2345, 'jobless': 2390, 'skill': 4089, 'bishop': 460, 'strip': 4309, 'crumbl': 1075, 'sochi': 4140, 'clearanc': 819, 'rwanda': 3841, 'bound': 541, 'contribut': 971, 'contain': 961, 'hesher': 2079, 'cringeworthi': 1057, 'elig': 1444, 'fray': 1785, 'willi': 4905, 'succeed': 4334, 'distribut': 1318, 'trick': 4605, 'concess': 921, 'angelina': 165, 'joli': 2399, 'lazi': 2557, 'accent': 21, 'nasa': 2981, 'rosenstein': 3814, 'interpret': 2304, 'extraordinari': 1597, 'lula': 2685, 'strain': 4293, 'hungarian': 2164, 'barcelona': 355, 'specif': 4189, 'ampute': 150, 'orlean': 3153, 'eras': 1511, 'classroom': 814, 'implic': 2219, 'plotter': 3352, 'heartbroken': 2057, 'decapit': 1151, 'murdoch': 2955, 'hud': 2150, 'broaden': 585, 'hannan': 2015, 'rat': 3585, 'herald': 2076, 'arctic': 215, 'purpos': 3523, 'lyin': 2693, 'background': 312, 'reiter': 3662, 'immens': 2209, 'environ': 1497, 'perri': 3294, 'brit': 578, 'newest': 3019, 'aka': 101, 'drudg': 1382, 'policeman': 3369, 'tunisian': 4631, 'betray': 428, 'homosexu': 2121, 'atroc': 272, 'chicken': 764, 'curtain': 1094, 'fri': 1797, 'costum': 1002, 'lure': 2690, 'especi': 1520, 'tennesse': 4462, 'pattern': 3251, 'netherland': 3012, 'cosbi': 1000, 'guerrilla': 1968, 'ngo': 3027, 'najib': 2972, 'theorist': 4487, 'kenyatta': 2448, 'applic': 203, 'bot': 534, 'axio': 304, 'petraeus': 3304, 'kany': 2428, 'startl': 4252, 'sheen': 4022, 'raw': 3591, 'sustain': 4380, 'drew': 1372, 'toughest': 4557, 'famin': 1624, 'burden': 616, 'sane': 3873, 'cynic': 1099, 'hunter': 2168, 'ethiopian': 1528, 'loudmouth': 2672, 'milo': 2851, 'excel': 1559, 'uneas': 4691, 'spineless': 4202, 'defus': 1183, 'somehow': 4158, 'repriev': 3695, 'bench': 416, 'mcmaster': 2783, 'nordic': 3054, 'backtrack': 314, 'yingluck': 4978, 'swim': 4392, 'fusion': 1824, 'acid': 32, 'function': 1814, 'dispers': 1306, 'popcorn': 3383, 'reignit': 3656, 'degrass': 1185, 'tyson': 4653, 'valentin': 4756, 'tab': 4405, 'repair': 3685, 'solid': 4151, 'partnership': 3237, 'ramo': 3566, 'threw': 4500, 'lion': 2626, 'fatah': 1643, 'handov': 2012, 'strang': 4294, 'scoop': 3915, 'markl': 2748, 'sway': 4385, 'diverg': 1322, 'ralph': 3563, 'parodi': 3229, 'snope': 4133, 'declassifi': 1159, 'whip': 4886, 'kingdom': 2469, 'instal': 2281, 'liz': 2634, 'yonhap': 4979, 'hip': 2097, 'kyrgyzstan': 2500, 'pummel': 3513, 'auster': 286, 'reduct': 3632, 'appointe': 205, 'montana': 2910, 'laughter': 2539, 'preview': 3438, 'renam': 3679, 'penn': 3278, 'lone': 2650, 'paus': 3254, 'outspoken': 3172, 'burst': 622, 'chest': 760, 'fifth': 1683, 'admir': 55, 'hedg': 2065, 'grandson': 1932, 'furi': 1822, 'hungri': 2166, 'dictatorship': 1258, 'instagram': 2280, 'deeper': 1169, 'lowest': 2680, 'acr': 36, 'botch': 535, 'unfithillari': 4696, 'liberian': 2604, 'duke': 1390, 'forev': 1754, 'vital': 4805, 'presser': 3432, 'monopoli': 2908, 'basement': 366, 'collar': 862, 'ypg': 4985, 'fallen': 1617, 'topless': 4547, 'bat': 373, 'ww': 4959, 'reich': 3654, 'impass': 2214, 'remand': 3674, 'mistaken': 2874, 'keurig': 2451, 'courtroom': 1022, 'contempt': 962, 'emperor': 1466, 'idaho': 2186, 'ing': 2264, 'classic': 810, 'bolton': 511, 'pai': 3198, 'underground': 4684, 'constant': 953, 'dirt': 1277, 'inspect': 2277, 'monger': 2904, 'optim': 3143, 'prez': 3440, 'rouhani': 3819, 'musician': 2960, 'impli': 2218, 'sympathi': 4400, 'omarosa': 3126, 'fujimori': 1808, 'eleven': 1443, 'wrongdo': 4956, 'pool': 3380, 'pneumonia': 3357, 'shadi': 4006, 'ariana': 221, 'battleground': 381, 'turbul': 4633, 'chomski': 777, 'outsourc': 3171, 'heavi': 2060, 'gps': 1920, 'firebrand': 1704, 'thoma': 4493, 'vomit': 4812, 'cranki': 1035, 'interfax': 2297, 'champ': 730, 'crow': 1069, 'captain': 669, 'georgian': 1859, 'gasolin': 1842, 'mommi': 2901, 'thin': 4489, 'dime': 1266, 'png': 3358, 'certifi': 721, 'bosnia': 530, 'reactor': 3596, 'proven': 3499, 'conspir': 951, 'cup': 1087, 'blew': 478, 'string': 4308, 'realist': 3602, 'theme': 4485, 'frozen': 1803, 'sahel': 3855, 'surgeon': 4364, 'nerv': 3008, 'paycheck': 3258, 'retain': 3730, 'ambiti': 139, 'handshak': 2013, 'asap': 239, 'armor': 226, 'mortgag': 2924, 'slogan': 4109, 'toe': 4528, 'habit': 1989, 'ensu': 1490, 'rose': 3813, 'retak': 3731}\n"
     ]
    }
   ],
   "source": [
    "#Also try naive bayes and rfc with tf-idf\n",
    "Tfidf_vect = TfidfVectorizer(max_features=5000)\n",
    "Tfidf_vect.fit(df['Title Clean'])\n",
    "Train_X_Tfidf = Tfidf_vect.transform(X_train)\n",
    "Test_X_Tfidf = Tfidf_vect.transform(X_test)\n",
    "\n",
    "print(Tfidf_vect.vocabulary_)"
   ]
  },
  {
   "cell_type": "code",
   "execution_count": 34,
   "id": "4a8ab1db",
   "metadata": {},
   "outputs": [
    {
     "name": "stdout",
     "output_type": "stream",
     "text": [
      "SVM Accuracy Score ->  94.20935412026726\n"
     ]
    }
   ],
   "source": [
    "SVM = svm.SVC(C=1.0, kernel='linear', degree=3, gamma='auto')\n",
    "SVM.fit(Train_X_Tfidf,Y_Train)\n",
    "# predict the labels on validation dataset\n",
    "predictions_SVM = SVM.predict(Test_X_Tfidf)\n",
    "# Use accuracy_score function to get the accuracy\n",
    "print(\"SVM Accuracy Score -> \",accuracy_score(predictions_SVM, Y_Test)*100)"
   ]
  },
  {
   "cell_type": "code",
   "execution_count": 35,
   "id": "a0f08fe1",
   "metadata": {},
   "outputs": [
    {
     "name": "stdout",
     "output_type": "stream",
     "text": [
      "              precision    recall  f1-score   support\n",
      "\n",
      "           0       0.95      0.94      0.94      4655\n",
      "           1       0.93      0.95      0.94      4325\n",
      "\n",
      "    accuracy                           0.94      8980\n",
      "   macro avg       0.94      0.94      0.94      8980\n",
      "weighted avg       0.94      0.94      0.94      8980\n",
      "\n"
     ]
    }
   ],
   "source": [
    "print(classification_report(Y_Test,predictions_SVM))"
   ]
  },
  {
   "cell_type": "code",
   "execution_count": null,
   "id": "eb0c0ba0",
   "metadata": {},
   "outputs": [],
   "source": []
  }
 ],
 "metadata": {
  "kernelspec": {
   "display_name": "Python 3 (ipykernel)",
   "language": "python",
   "name": "python3"
  },
  "language_info": {
   "codemirror_mode": {
    "name": "ipython",
    "version": 3
   },
   "file_extension": ".py",
   "mimetype": "text/x-python",
   "name": "python",
   "nbconvert_exporter": "python",
   "pygments_lexer": "ipython3",
   "version": "3.9.13"
  }
 },
 "nbformat": 4,
 "nbformat_minor": 5
}
